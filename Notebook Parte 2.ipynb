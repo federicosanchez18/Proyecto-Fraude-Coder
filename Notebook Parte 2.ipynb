{
 "cells": [
  {
   "cell_type": "code",
   "execution_count": null,
   "id": "f7e17514",
   "metadata": {},
   "outputs": [],
   "source": []
  },
  {
   "cell_type": "code",
   "execution_count": null,
   "id": "f35d3383",
   "metadata": {},
   "outputs": [],
   "source": []
  },
  {
   "cell_type": "markdown",
   "id": "76a9b292",
   "metadata": {},
   "source": [
    "# Veo la concentracion de las variables \n",
    "\n",
    "'Avg min between sent tnx',\n",
    "'Avg min between received tnx', \n",
    "'Time Diff between first and last (Mins)', \n",
    "'Sent tnx', 'Received Tnx',        \n",
    "'Number of Created Contracts', \n",
    "'Unique Received From Addresses',\n",
    "'Unique Sent To Addresses', \n",
    "'min value received', \n",
    "'max value received ',  \n",
    "'avg val received', \n",
    "'min val sent', \n",
    "'max val sent', \n",
    "'avg val sent',        \n",
    "'min value sent to contract'"
   ]
  },
  {
   "cell_type": "code",
   "execution_count": null,
   "id": "d5c93dce",
   "metadata": {},
   "outputs": [],
   "source": [
    "df['Received Tnx'].describe([.01,.1,.2,.3,.4,.5,.6,.7,.8,.9,.99]) #Para verlo por deciles + el extremo 99% que en este escenario es util\n",
    "\n"
   ]
  },
  {
   "cell_type": "code",
   "execution_count": null,
   "id": "4d9381b3",
   "metadata": {},
   "outputs": [],
   "source": [
    "df['min val sent'].describe([.01,.1,.2,.3,.4,.5,.6,.7,.75,.8,.9,.99]) #Para verlo por deciles + el extremo 99% que en este escenario es util\n"
   ]
  },
  {
   "cell_type": "code",
   "execution_count": null,
   "id": "d9308b7a",
   "metadata": {},
   "outputs": [],
   "source": [
    "df['min value received'].describe([.01,.1,.2,.3,.4,.5,.6,.7,.75,.8,.9,.99])"
   ]
  },
  {
   "cell_type": "code",
   "execution_count": null,
   "id": "be878b53",
   "metadata": {},
   "outputs": [],
   "source": [
    "df['avg val received'].describe([.01,.1,.2,.3,.4,.5,.6,.7,.75,.8,.9,.99])"
   ]
  },
  {
   "cell_type": "code",
   "execution_count": null,
   "id": "f8991992",
   "metadata": {},
   "outputs": [],
   "source": [
    "df['avg val received'].describe([.01,.1,.2,.3,.4,.5,.6,.7,.75,.8,.9,.99])"
   ]
  },
  {
   "cell_type": "code",
   "execution_count": null,
   "id": "6eb68d53",
   "metadata": {},
   "outputs": [],
   "source": [
    "df['max value received '].describe([.01,.1,.2,.3,.4,.5,.6,.7,.75,.8,.9,.99])\n",
    " "
   ]
  },
  {
   "cell_type": "code",
   "execution_count": null,
   "id": "7e10ebc5",
   "metadata": {},
   "outputs": [],
   "source": [
    "df['Sent tnx'].describe([.01,.1,.2,.3,.4,.5,.6,.7,.75,.8,.9,.99])"
   ]
  },
  {
   "cell_type": "code",
   "execution_count": null,
   "id": "aacf6fa4",
   "metadata": {},
   "outputs": [],
   "source": [
    "df['Avg min between sent tnx'].describe([.01,.1,.2,.3,.4,.5,.6,.7,.75,.8,.9,.99])"
   ]
  },
  {
   "cell_type": "code",
   "execution_count": null,
   "id": "d08881e5",
   "metadata": {},
   "outputs": [],
   "source": [
    "df['Avg min between received tnx'].describe([.01,.1,.2,.3,.4,.5,.6,.7,.75,.8,.9,.99])"
   ]
  },
  {
   "cell_type": "code",
   "execution_count": null,
   "id": "060b925a",
   "metadata": {},
   "outputs": [],
   "source": [
    "df['Time Diff between first and last (Mins)'].describe([.01,.1,.2,.3,.4,.5,.6,.7,.75,.8,.9,.99]).apply(lambda x: format(x, 'f')) #Para evitar notación científica"
   ]
  },
  {
   "cell_type": "code",
   "execution_count": null,
   "id": "60e0e0e7",
   "metadata": {},
   "outputs": [],
   "source": [
    "df['Unique Received From Addresses'].describe([.01,.1,.2,.3,.4,.5,.6,.7,.75,.8,.9,.99])"
   ]
  },
  {
   "cell_type": "code",
   "execution_count": null,
   "id": "9179ea56",
   "metadata": {},
   "outputs": [],
   "source": [
    "df['Unique Sent To Addresses'].describe([.01,.1,.2,.3,.4,.5,.6,.7,.75,.8,.9,.99])"
   ]
  },
  {
   "cell_type": "code",
   "execution_count": null,
   "id": "b39958c5",
   "metadata": {},
   "outputs": [],
   "source": [
    "# 'Avg min between sent tnx' se limpio el ultimo cuartil\n",
    "# 'Avg min between received tnx' se limpio al ultimo cuartil\n",
    "# 'Time Diff between first and last (Mins)' se limpio al ultimo cuartil \n",
    "# 'avg val received' se limpio el ultimo cuartil\n",
    "# 'min val sent' se limpio el ultimo cuartil\n",
    "# 'min value received' se limpio al ultimo cuartil\n",
    "df_limpio = df[(df['Received Tnx'] <= 16) & (df['min val sent'] <= 1) & (df['min value received'] < 2) & (df['avg val received'] <= 22) & (df['max value received '] <= 101 ) & (df['Sent tnx'] <=16) & (df['Avg min between sent tnx'] < 387) & (df['Avg min between received tnx'] < 6765) & (df['Time Diff between first and last (Mins)'] < 156106 )]"
   ]
  },
  {
   "cell_type": "code",
   "execution_count": null,
   "id": "d54012df",
   "metadata": {},
   "outputs": [],
   "source": [
    "pie, ax = plt.subplots(figsize=[15,10])\n",
    "labels = ['No Fraude', 'Fraude']\n",
    "colors = ['#f9ae35', '#f64e38']\n",
    "plt.pie(x = df_limpio['FLAG'].value_counts(), autopct='%.2f%%', explode=[0.02]*2, labels=labels, pctdistance=0.5, textprops={'fontsize': 14}, colors = colors)\n",
    "plt.title('Distribucion de la columna Target')\n"
   ]
  },
  {
   "cell_type": "code",
   "execution_count": null,
   "id": "7680e408",
   "metadata": {},
   "outputs": [],
   "source": [
    "df_limpio['FLAG'].value_counts()"
   ]
  },
  {
   "cell_type": "code",
   "execution_count": null,
   "id": "7d069089",
   "metadata": {},
   "outputs": [],
   "source": [
    "sns.boxplot(x='FLAG', y='Avg min between sent tnx', data=df_limpio)\n",
    "\n",
    "plt.show()\n",
    "\n",
    "sns.boxplot(x='FLAG', y='Avg min between received tnx', data=df_limpio)\n",
    "\n",
    "plt.show()\n",
    "\n",
    "sns.boxplot(x='FLAG', y='Time Diff between first and last (Mins)', data=df_limpio)\n",
    "\n",
    "plt.show()\n",
    "\n",
    "sns.boxplot(x='FLAG', y='Sent tnx', data=df_limpio)\n",
    "\n",
    "plt.show()\n",
    "\n",
    "sns.boxplot(x='FLAG', y='Received Tnx', data=df_limpio)\n",
    "\n",
    "plt.show()\n",
    "\n",
    "sns.boxplot(x='FLAG', y='Number of Created Contracts', data=df_limpio)\n",
    "\n",
    "plt.show()\n",
    "\n",
    "sns.boxplot(x='FLAG', y='Unique Received From Addresses', data=df_limpio)\n",
    "\n",
    "plt.show() \n",
    "\n",
    "sns.boxplot(x='FLAG', y='Unique Sent To Addresses', data=df_limpio)\n",
    "\n",
    "plt.show() \n",
    "\n",
    "sns.boxplot(x='FLAG', y='min value received', data=df_limpio)\n",
    "\n",
    "plt.show() \n",
    "\n",
    "sns.boxplot(x='FLAG', y='max value received ', data=df_limpio)\n",
    "\n",
    "plt.show() \n",
    "\n",
    "sns.boxplot(x='FLAG', y='avg val received', data=df_limpio)\n",
    "\n",
    "plt.show() \n",
    "\n",
    "sns.boxplot(x='FLAG', y='min val sent', data=df_limpio)\n",
    "\n",
    "plt.show() \n",
    "\n",
    "sns.catplot(x='FLAG', y='min val sent', data=df_limpio)\n",
    "\n",
    "sns.catplot(x='FLAG', y='Avg min between sent tnx', data=df_limpio)\n",
    "\n",
    "plt.show()\n",
    "\n",
    "sns.catplot(x='FLAG', y='Avg min between received tnx', data=df_limpio)\n",
    "\n",
    "plt.show()\n",
    "\n",
    "sns.catplot(x='FLAG', y='Time Diff between first and last (Mins)', data=df_limpio)\n",
    "\n",
    "plt.show()\n",
    "\n",
    "sns.catplot(x='FLAG', y='Sent tnx', data=df_limpio)\n",
    "\n",
    "plt.show()\n",
    "\n",
    "sns.catplot(x='FLAG', y='Received Tnx', data=df_limpio)\n",
    "\n",
    "plt.show()\n",
    "\n",
    "sns.catplot(x='FLAG', y='Number of Created Contracts', data=df_limpio)\n",
    "\n",
    "plt.show()\n",
    "\n",
    "\n",
    "\n",
    "sns.catplot(x='FLAG', y='Unique Received From Addresses', data=df_limpio)\n",
    "plt.show() \n",
    "\n",
    "sns.catplot(x='FLAG', y='Unique Sent To Addresses', data=df_limpio)\n",
    "plt.show() \n",
    "\n",
    "sns.catplot(x='FLAG', y='min value received', data=df_limpio)\n",
    "plt.show() \n",
    "\n",
    "sns.catplot(x='FLAG', y='max value received ', data=df_limpio)\n",
    "plt.show() \n",
    "\n",
    "sns.catplot(x='FLAG', y='avg val received', data=df_limpio)\n",
    "plt.show() \n",
    "\n",
    "sns.catplot(x='FLAG', y='min val sent', data=df_limpio)\n",
    "plt.show() "
   ]
  },
  {
   "cell_type": "code",
   "execution_count": null,
   "id": "29f04fbd",
   "metadata": {},
   "outputs": [],
   "source": [
    "df_limpio.columns"
   ]
  },
  {
   "cell_type": "code",
   "execution_count": null,
   "id": "36088432",
   "metadata": {},
   "outputs": [],
   "source": [
    "X.tail()"
   ]
  },
  {
   "cell_type": "code",
   "execution_count": null,
   "id": "ce29d1fd",
   "metadata": {},
   "outputs": [],
   "source": []
  }
 ],
 "metadata": {
  "kernelspec": {
   "display_name": "Python 3 (ipykernel)",
   "language": "python",
   "name": "python3"
  },
  "language_info": {
   "codemirror_mode": {
    "name": "ipython",
    "version": 3
   },
   "file_extension": ".py",
   "mimetype": "text/x-python",
   "name": "python",
   "nbconvert_exporter": "python",
   "pygments_lexer": "ipython3",
   "version": "3.9.7"
  }
 },
 "nbformat": 4,
 "nbformat_minor": 5
}
