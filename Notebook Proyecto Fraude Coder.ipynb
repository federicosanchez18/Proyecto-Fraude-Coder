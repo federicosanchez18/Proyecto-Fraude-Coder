{
 "cells": [
  {
   "cell_type": "markdown",
   "id": "9c0c6a1f",
   "metadata": {},
   "source": [
    "<h3> Curso Ciencia de Datos </h3>\n",
    "<h1> Sistema de detección de Fraude - Proyecto final para Coderhouse </h1>\n",
    "\n",
    "<h4> Integrantes : \n",
    "<p>\n",
    "<p> Miguel Rodriguez -> Tutor Maximiliano\n",
    "<p> Ricardo Vaisman -> Tutor Maximiliano\n",
    "<p> Federico Sanchez -> Tutor Maximiliano\n",
    "</h4>\n"
   ]
  },
  {
   "cell_type": "markdown",
   "id": "58d4200f",
   "metadata": {},
   "source": [
    "Tabla de contenido \n",
    "\n",
    "[Introducción](#Introducción) <br>\n",
    "\n",
    "Problema a resolver<br>\n",
    "Contexto<br>\n",
    "Preguntas y objetivos de la investigación<br>\n",
    "\n",
    " \n",
    "[Data Acquisition](#Data_Acquisition)<br>\n",
    "\n",
    "Fuente del dataset y criterios de selección<br>\n",
    "Información sobre el conjunto de datos<br>\n",
    "\n",
    "    \n",
    "[Análisis Univariado\t](#Análisis_Univariado)<br>\n",
    "\n",
    "Analisis general<br>\n",
    "Variable target<br>\n",
    "Nulos y valores en cero<br>\n",
    "Correlación de la variable Target<br>\n",
    "Limpieza variables categóricas<br>\n",
    "Bar charts<br>\n",
    "Análisis de frecuencias Categóricas<br>\n",
    "\n",
    "[Análisis Bivariado\t](#Análisis_Bivariado)<br>\n",
    "\n",
    "Box plots<br>\n",
    "\n",
    "[Análisis Multivariado\t](#Análisis_Multivariado)<br>\n",
    "\n",
    "[Indicadores\t](#Indicadores)<br>\n",
    "\n",
    "[Valores Extremos](#Valores-extremos)<br>\n",
    "\n",
    "[Algoritmos no supervisados](#Algoritmos-No-supervisados)<br>\n",
    "\n",
    "[Algoritmos de Clasificación (Dataset Completo)](#Aplicamos--algoritmos-de-clasificaci%C3%B3n-al-Dataset-completo)<br>\n",
    "[--- Arbol de Decisiones](#Arbol-de-Decisiones)<br>\n",
    "[--- Random Forest](#Random-Forest)<br>\n",
    "[--- KNN](#KNN)<br>\n",
    "[--- XGBoost](#XGBoost)<br>\n",
    "\n",
    "[Algoritmos de Clasificación (Dataset Reducido)](#Aplicamos-algoritmos-de-clasificaci%C3%B3n-al-Dataset-reducido)<br>\n",
    "[--- Arbol de Decisiones](#Arbol-de-Decisiones-(Dataset-Reducido))<br>\n",
    "[--- Random Forest](#Random-Forest---Dataset-reducido)<br>\n",
    "[--- KNN](#KNN---Dataset-reducido)<br>\n",
    "[--- XGBoost](#XGBoost----Dataset-reducido)<br>\n",
    "\n",
    "\n",
    "[Validación de Modelos](#Validacion-de-modelos-y-seleccion)\n"
   ]
  },
  {
   "cell_type": "markdown",
   "id": "711d9375",
   "metadata": {},
   "source": [
    "\n",
    "## Introducción"
   ]
  },
  {
   "cell_type": "markdown",
   "id": "ad41c10d",
   "metadata": {},
   "source": [
    "\n",
    "\n",
    "<h4>Problema a resolver</h4>\n",
    "Se necesita implementar un sistema de detección de fraudes para transacciones con la criptomoneda Ethereum (ETH).\n",
    "\n",
    "<h4>Contexto</h4>\n",
    "Este conjunto de datos contiene filas de fraudes conocidos y transacciones válidas realizadas con Ethereum, un tipo de criptomoneda. \n",
    "\n",
    "<h4>Preguntas y objetivos de la investigación</h4>\n",
    "Entender que variables de las transacciones de ETH dan indicios para creer que una transacción es fraudulenta o no. \n",
    "\n",
    "\n"
   ]
  },
  {
   "cell_type": "markdown",
   "id": "52ab8857",
   "metadata": {},
   "source": [
    "## Data_Acquisition\n",
    "\n",
    "<h4>Fuente del dataset y criterios de selección</h4>\n",
    "\n",
    "Ethereum Fraud Detection Dataset\n",
    "https://www.kaggle.com/vagifa/ethereum-frauddetection-dataset\n",
    "\n",
    "Seleccionamos el siguiente set datos ya que contaba con una variable TARGET ya definida. Contiene un número considerable de columnas y representa de una manera muy entendible una transacción de ETH.\n",
    "Posee 9841 registros y 51 columnas lo consideramos es una buena cantidad de información para analizar y crear un modelo de ML.\n",
    "\n",
    "<h4>Información sobre el conjunto de datos</h4>\n",
    " Aquí hay una descripción de las filas del conjunto de datos:\n",
    " \n",
    "<ul> \n",
    "<li>Índex: El número de índice de una fila.</li>\n",
    "<li>Address: la dirección de la cuenta Ethereum.</li>\n",
    "<li>FLAG: si la transacción es fraude o no.</li>\n",
    "<li>Avg min between sent tnx: tiempo promedio entre transacciones enviadas para la cuenta en minutos.</li>\n",
    "<li>Avg min between received tnx: tiempo promedio entre transacciones recibidas para la cuenta en minutos.</li>\n",
    "<li>Time Diff between first and last (Mins): diferencia de tiempo entre la primera y la última transacción.</li>\n",
    "<li>Sent Tnx: número total de transacciones normales enviadas</li>\n",
    "<li>Received Tnx: número total de transacciones normales recibidas</li>\n",
    "<li>NumberofCreated_Contracts: Número total de transacciones de contrato creadas.</li>\n",
    "<li>UniqueReceivedFrom_Addresses: Total de direcciones únicas desde las cuales la cuenta recibió transacciones</li>\n",
    "<li>UniqueSentTo_Addresses20: Total de direcciones únicas desde las cuales la cuenta envió transacciones</li>\n",
    "<li>MinValueReceived: valor mínimo en Ether recibido alguna vez</li>\n",
    "<li>MaxValueReceived: valor máximo en Ether recibido alguna vez</li>\n",
    "<li>AvgValueReceived5Average: Valor promedio en Ether recibido alguna vez</li>\n",
    "<li>MinValSent: Valor mínimo de Ether jamás enviado</li>\n",
    "<li>MaxValSent: Valor máximo de Ether jamás enviado</li>\n",
    "<li>AvgValSent: valor promedio de Ether enviado alguna vez</li>\n",
    "<li>MinValueSentToContract:  valor mínimo de Ether enviado a un contrato</li>\n",
    "<li>MaxValueSentToContract: valor máximo de Ether enviado a un contrato</li>\n",
    "<li>AvgValueSentToContract: valor promedio de Ether enviado a contratos</li>\n",
    "<li>TotalTransactions(IncludingTnxtoCreate_Contract):  número total de transacciones</li>\n",
    "<li>TotalEtherSent:Ether total enviado para la dirección de la cuenta</li>\n",
    "<li>TotalEtherReceived: Ether total recibido para la dirección de la cuenta</li>\n",
    "<li>TotalEtherSent_Contracts: Total Ether enviado a direcciones de contrato</li>\n",
    "<li>TotalEtherBalance: Saldo total de Ether después de las transacciones promulgadas</li>\n",
    "<li>TotalERC20Tnxs: número total de transacciones de transferencia de token ERC20</li>\n",
    "<li>ERC20TotalEther_Received: Total de transacciones recibidas del token ERC20 en Ether</li>\n",
    "<li>ERC20TotalEther_Sent: Total de transacciones ERC20token enviadas en Ether</li>\n",
    "<li>ERC20TotalEtherSentContract: transferencia de token ERC20 total a otros contratos en Ether</li>\n",
    "<li>ERC20UniqSent_Addr:  número de transacciones de token ERC20 enviadas a direcciones de cuenta únicas</li>\n",
    "<li>ERC20UniqRec_Addr:  número de transacciones de token ERC20 recibidas de direcciones únicas</li>\n",
    "<li>ERC20UniqRecContractAddr: número de transacciones de token ERC20 recibidas de direcciones de contrato únicas</li>\n",
    "<li>ERC20AvgTimeBetweenSent_Tnx: tiempo promedio entre transacciones enviadas con token ERC20 en minutos</li>\n",
    "<li>ERC20AvgTimeBetweenRec_Tnx: tiempo promedio entre transacciones recibidas del token ERC20 en minutos</li>\n",
    "<li>ERC20AvgTimeBetweenContract_Tnx: tiempo promedio del token ERC20 entre transacciones de token enviadas</li>\n",
    "<li>ERC20MinVal_Rec: valor mínimo en Ether recibido de las transacciones de token ERC20 para la cuenta</li>\n",
    "<li>ERC20MaxVal_Rec: valor máximo en Ether recibido de las transacciones de token ERC20 para la cuenta</li>\n",
    "<li>ERC20AvgVal_Rec: valor promedio en Ether recibido de las transacciones de token ERC20 para la cuenta</li>\n",
    "<li>ERC20MinVal_Sent: valor mínimo en Ether enviado desde transacciones de token ERC20 para la cuenta</li>\n",
    "<li>ERC20MaxVal_Sent: valor máximo en Ether enviado desde transacciones de token ERC20 para cuenta</li>\n",
    "<li>ERC20AvgVal_Sent: valor promedio en Ether enviado desde transacciones de token ERC20 para la cuenta</li>\n",
    "<li>ERC20UniqSentTokenName: número de tokens ERC20 únicos transferidos</li>\n",
    "<li>RC20UniqRecTokenName: número de tokens ERC20 únicos recibidos</li>\n",
    "<li>ERC20MostSentTokenType:token más enviado para la cuenta a través de la transacción ERC20</li>\n",
    "<li>ERC20MostRecTokenType:  token más recibido para la cuenta a través de transacciones ERC20\n",
    "    \n",
    "</ul>\n"
   ]
  },
  {
   "cell_type": "code",
   "execution_count": 539,
   "id": "f1f73d72",
   "metadata": {},
   "outputs": [
    {
     "name": "stdout",
     "output_type": "stream",
     "text": [
      "(9841, 51)\n"
     ]
    },
    {
     "data": {
      "text/html": [
       "<div>\n",
       "<style scoped>\n",
       "    .dataframe tbody tr th:only-of-type {\n",
       "        vertical-align: middle;\n",
       "    }\n",
       "\n",
       "    .dataframe tbody tr th {\n",
       "        vertical-align: top;\n",
       "    }\n",
       "\n",
       "    .dataframe thead th {\n",
       "        text-align: right;\n",
       "    }\n",
       "</style>\n",
       "<table border=\"1\" class=\"dataframe\">\n",
       "  <thead>\n",
       "    <tr style=\"text-align: right;\">\n",
       "      <th></th>\n",
       "      <th>Unnamed: 0</th>\n",
       "      <th>Index</th>\n",
       "      <th>Address</th>\n",
       "      <th>FLAG</th>\n",
       "      <th>Avg min between sent tnx</th>\n",
       "      <th>Avg min between received tnx</th>\n",
       "      <th>Time Diff between first and last (Mins)</th>\n",
       "      <th>Sent tnx</th>\n",
       "      <th>Received Tnx</th>\n",
       "      <th>Number of Created Contracts</th>\n",
       "      <th>...</th>\n",
       "      <th>ERC20 min val sent</th>\n",
       "      <th>ERC20 max val sent</th>\n",
       "      <th>ERC20 avg val sent</th>\n",
       "      <th>ERC20 min val sent contract</th>\n",
       "      <th>ERC20 max val sent contract</th>\n",
       "      <th>ERC20 avg val sent contract</th>\n",
       "      <th>ERC20 uniq sent token name</th>\n",
       "      <th>ERC20 uniq rec token name</th>\n",
       "      <th>ERC20 most sent token type</th>\n",
       "      <th>ERC20_most_rec_token_type</th>\n",
       "    </tr>\n",
       "  </thead>\n",
       "  <tbody>\n",
       "    <tr>\n",
       "      <th>0</th>\n",
       "      <td>0</td>\n",
       "      <td>1</td>\n",
       "      <td>0x00009277775ac7d0d59eaad8fee3d10ac6c805e8</td>\n",
       "      <td>0</td>\n",
       "      <td>844.26</td>\n",
       "      <td>1093.71</td>\n",
       "      <td>704785.63</td>\n",
       "      <td>721</td>\n",
       "      <td>89</td>\n",
       "      <td>0</td>\n",
       "      <td>...</td>\n",
       "      <td>0.000000</td>\n",
       "      <td>1.683100e+07</td>\n",
       "      <td>271779.920000</td>\n",
       "      <td>0.0</td>\n",
       "      <td>0.0</td>\n",
       "      <td>0.0</td>\n",
       "      <td>39.0</td>\n",
       "      <td>57.0</td>\n",
       "      <td>Cofoundit</td>\n",
       "      <td>Numeraire</td>\n",
       "    </tr>\n",
       "    <tr>\n",
       "      <th>1</th>\n",
       "      <td>1</td>\n",
       "      <td>2</td>\n",
       "      <td>0x0002b44ddb1476db43c868bd494422ee4c136fed</td>\n",
       "      <td>0</td>\n",
       "      <td>12709.07</td>\n",
       "      <td>2958.44</td>\n",
       "      <td>1218216.73</td>\n",
       "      <td>94</td>\n",
       "      <td>8</td>\n",
       "      <td>0</td>\n",
       "      <td>...</td>\n",
       "      <td>2.260809</td>\n",
       "      <td>2.260809e+00</td>\n",
       "      <td>2.260809</td>\n",
       "      <td>0.0</td>\n",
       "      <td>0.0</td>\n",
       "      <td>0.0</td>\n",
       "      <td>1.0</td>\n",
       "      <td>7.0</td>\n",
       "      <td>Livepeer Token</td>\n",
       "      <td>Livepeer Token</td>\n",
       "    </tr>\n",
       "    <tr>\n",
       "      <th>2</th>\n",
       "      <td>2</td>\n",
       "      <td>3</td>\n",
       "      <td>0x0002bda54cb772d040f779e88eb453cac0daa244</td>\n",
       "      <td>0</td>\n",
       "      <td>246194.54</td>\n",
       "      <td>2434.02</td>\n",
       "      <td>516729.30</td>\n",
       "      <td>2</td>\n",
       "      <td>10</td>\n",
       "      <td>0</td>\n",
       "      <td>...</td>\n",
       "      <td>0.000000</td>\n",
       "      <td>0.000000e+00</td>\n",
       "      <td>0.000000</td>\n",
       "      <td>0.0</td>\n",
       "      <td>0.0</td>\n",
       "      <td>0.0</td>\n",
       "      <td>0.0</td>\n",
       "      <td>8.0</td>\n",
       "      <td>None</td>\n",
       "      <td>XENON</td>\n",
       "    </tr>\n",
       "    <tr>\n",
       "      <th>3</th>\n",
       "      <td>3</td>\n",
       "      <td>4</td>\n",
       "      <td>0x00038e6ba2fd5c09aedb96697c8d7b8fa6632e5e</td>\n",
       "      <td>0</td>\n",
       "      <td>10219.60</td>\n",
       "      <td>15785.09</td>\n",
       "      <td>397555.90</td>\n",
       "      <td>25</td>\n",
       "      <td>9</td>\n",
       "      <td>0</td>\n",
       "      <td>...</td>\n",
       "      <td>100.000000</td>\n",
       "      <td>9.029231e+03</td>\n",
       "      <td>3804.076893</td>\n",
       "      <td>0.0</td>\n",
       "      <td>0.0</td>\n",
       "      <td>0.0</td>\n",
       "      <td>1.0</td>\n",
       "      <td>11.0</td>\n",
       "      <td>Raiden</td>\n",
       "      <td>XENON</td>\n",
       "    </tr>\n",
       "    <tr>\n",
       "      <th>4</th>\n",
       "      <td>4</td>\n",
       "      <td>5</td>\n",
       "      <td>0x00062d1dd1afb6fb02540ddad9cdebfe568e0d89</td>\n",
       "      <td>0</td>\n",
       "      <td>36.61</td>\n",
       "      <td>10707.77</td>\n",
       "      <td>382472.42</td>\n",
       "      <td>4598</td>\n",
       "      <td>20</td>\n",
       "      <td>1</td>\n",
       "      <td>...</td>\n",
       "      <td>0.000000</td>\n",
       "      <td>4.500000e+04</td>\n",
       "      <td>13726.659220</td>\n",
       "      <td>0.0</td>\n",
       "      <td>0.0</td>\n",
       "      <td>0.0</td>\n",
       "      <td>6.0</td>\n",
       "      <td>27.0</td>\n",
       "      <td>StatusNetwork</td>\n",
       "      <td>EOS</td>\n",
       "    </tr>\n",
       "  </tbody>\n",
       "</table>\n",
       "<p>5 rows × 51 columns</p>\n",
       "</div>"
      ],
      "text/plain": [
       "   Unnamed: 0  Index                                     Address  FLAG  \\\n",
       "0           0      1  0x00009277775ac7d0d59eaad8fee3d10ac6c805e8     0   \n",
       "1           1      2  0x0002b44ddb1476db43c868bd494422ee4c136fed     0   \n",
       "2           2      3  0x0002bda54cb772d040f779e88eb453cac0daa244     0   \n",
       "3           3      4  0x00038e6ba2fd5c09aedb96697c8d7b8fa6632e5e     0   \n",
       "4           4      5  0x00062d1dd1afb6fb02540ddad9cdebfe568e0d89     0   \n",
       "\n",
       "   Avg min between sent tnx  Avg min between received tnx  \\\n",
       "0                    844.26                       1093.71   \n",
       "1                  12709.07                       2958.44   \n",
       "2                 246194.54                       2434.02   \n",
       "3                  10219.60                      15785.09   \n",
       "4                     36.61                      10707.77   \n",
       "\n",
       "   Time Diff between first and last (Mins)  Sent tnx  Received Tnx  \\\n",
       "0                                704785.63       721            89   \n",
       "1                               1218216.73        94             8   \n",
       "2                                516729.30         2            10   \n",
       "3                                397555.90        25             9   \n",
       "4                                382472.42      4598            20   \n",
       "\n",
       "   Number of Created Contracts  ...   ERC20 min val sent   ERC20 max val sent  \\\n",
       "0                            0  ...             0.000000         1.683100e+07   \n",
       "1                            0  ...             2.260809         2.260809e+00   \n",
       "2                            0  ...             0.000000         0.000000e+00   \n",
       "3                            0  ...           100.000000         9.029231e+03   \n",
       "4                            1  ...             0.000000         4.500000e+04   \n",
       "\n",
       "    ERC20 avg val sent   ERC20 min val sent contract  \\\n",
       "0        271779.920000                           0.0   \n",
       "1             2.260809                           0.0   \n",
       "2             0.000000                           0.0   \n",
       "3          3804.076893                           0.0   \n",
       "4         13726.659220                           0.0   \n",
       "\n",
       "    ERC20 max val sent contract   ERC20 avg val sent contract  \\\n",
       "0                           0.0                           0.0   \n",
       "1                           0.0                           0.0   \n",
       "2                           0.0                           0.0   \n",
       "3                           0.0                           0.0   \n",
       "4                           0.0                           0.0   \n",
       "\n",
       "    ERC20 uniq sent token name   ERC20 uniq rec token name  \\\n",
       "0                         39.0                        57.0   \n",
       "1                          1.0                         7.0   \n",
       "2                          0.0                         8.0   \n",
       "3                          1.0                        11.0   \n",
       "4                          6.0                        27.0   \n",
       "\n",
       "    ERC20 most sent token type   ERC20_most_rec_token_type  \n",
       "0                    Cofoundit                   Numeraire  \n",
       "1               Livepeer Token              Livepeer Token  \n",
       "2                         None                       XENON  \n",
       "3                       Raiden                       XENON  \n",
       "4                StatusNetwork                         EOS  \n",
       "\n",
       "[5 rows x 51 columns]"
      ]
     },
     "execution_count": 539,
     "metadata": {},
     "output_type": "execute_result"
    }
   ],
   "source": [
    "#Importo librerias\n",
    "import pandas as pd\n",
    "import numpy as np\n",
    "%matplotlib inline\n",
    "import matplotlib.pyplot as plt\n",
    "import seaborn as sns\n",
    "import pandas_profiling\n",
    "\n",
    "from sklearn.linear_model import LogisticRegression\n",
    "from sklearn.model_selection import train_test_split\n",
    "from sklearn.ensemble import RandomForestClassifier\n",
    "from sklearn.tree import DecisionTreeClassifier\n",
    "from sklearn.cluster import KMeans\n",
    "import xgboost as xgb\n",
    "\n",
    "from sklearn.preprocessing import OneHotEncoder\n",
    "from sklearn.neighbors import KNeighborsClassifier\n",
    "from sklearn.preprocessing import StandardScaler\n",
    "\n",
    "from sklearn.metrics import accuracy_score\n",
    "from sklearn import metrics\n",
    "import statsmodels.api as sm\n",
    "import statsmodels.formula.api as smf\n",
    "from statsmodels.stats.weightstats import ttest_ind\n",
    "\n",
    "#Sklear Decision Tree y Random Forest\n",
    "\n",
    "\n",
    "#Importo libreria para medir los algoritmos\n",
    "from sklearn.metrics import confusion_matrix\n",
    "from sklearn.metrics import plot_confusion_matrix\n",
    "\n",
    "from sklearn.metrics import accuracy_score\n",
    "from sklearn.metrics import precision_score\n",
    "from sklearn.metrics import recall_score\n",
    "from sklearn.metrics import f1_score\n",
    "from sklearn.metrics import roc_curve, auc\n",
    "\n",
    "%matplotlib inline\n",
    "\n",
    "#Set de datos utilizado para el proyecto de Fraude \n",
    "\n",
    "df = pd.read_csv('transaction_dataset.csv')\n",
    "print(df.shape)\n",
    "df.head()##"
   ]
  },
  {
   "cell_type": "markdown",
   "id": "b995bfc7",
   "metadata": {},
   "source": [
    "## Análisis_Univariado\n"
   ]
  },
  {
   "cell_type": "markdown",
   "id": "d943677c",
   "metadata": {},
   "source": [
    "## Analisis general"
   ]
  },
  {
   "cell_type": "code",
   "execution_count": 540,
   "id": "49d99dde",
   "metadata": {},
   "outputs": [
    {
     "name": "stdout",
     "output_type": "stream",
     "text": [
      "<class 'pandas.core.frame.DataFrame'>\n",
      "RangeIndex: 9841 entries, 0 to 9840\n",
      "Data columns (total 51 columns):\n",
      " #   Column                                                Non-Null Count  Dtype  \n",
      "---  ------                                                --------------  -----  \n",
      " 0   Unnamed: 0                                            9841 non-null   int64  \n",
      " 1   Index                                                 9841 non-null   int64  \n",
      " 2   Address                                               9841 non-null   object \n",
      " 3   FLAG                                                  9841 non-null   int64  \n",
      " 4   Avg min between sent tnx                              9841 non-null   float64\n",
      " 5   Avg min between received tnx                          9841 non-null   float64\n",
      " 6   Time Diff between first and last (Mins)               9841 non-null   float64\n",
      " 7   Sent tnx                                              9841 non-null   int64  \n",
      " 8   Received Tnx                                          9841 non-null   int64  \n",
      " 9   Number of Created Contracts                           9841 non-null   int64  \n",
      " 10  Unique Received From Addresses                        9841 non-null   int64  \n",
      " 11  Unique Sent To Addresses                              9841 non-null   int64  \n",
      " 12  min value received                                    9841 non-null   float64\n",
      " 13  max value received                                    9841 non-null   float64\n",
      " 14  avg val received                                      9841 non-null   float64\n",
      " 15  min val sent                                          9841 non-null   float64\n",
      " 16  max val sent                                          9841 non-null   float64\n",
      " 17  avg val sent                                          9841 non-null   float64\n",
      " 18  min value sent to contract                            9841 non-null   float64\n",
      " 19  max val sent to contract                              9841 non-null   float64\n",
      " 20  avg value sent to contract                            9841 non-null   float64\n",
      " 21  total transactions (including tnx to create contract  9841 non-null   int64  \n",
      " 22  total Ether sent                                      9841 non-null   float64\n",
      " 23  total ether received                                  9841 non-null   float64\n",
      " 24  total ether sent contracts                            9841 non-null   float64\n",
      " 25  total ether balance                                   9841 non-null   float64\n",
      " 26   Total ERC20 tnxs                                     9012 non-null   float64\n",
      " 27   ERC20 total Ether received                           9012 non-null   float64\n",
      " 28   ERC20 total ether sent                               9012 non-null   float64\n",
      " 29   ERC20 total Ether sent contract                      9012 non-null   float64\n",
      " 30   ERC20 uniq sent addr                                 9012 non-null   float64\n",
      " 31   ERC20 uniq rec addr                                  9012 non-null   float64\n",
      " 32   ERC20 uniq sent addr.1                               9012 non-null   float64\n",
      " 33   ERC20 uniq rec contract addr                         9012 non-null   float64\n",
      " 34   ERC20 avg time between sent tnx                      9012 non-null   float64\n",
      " 35   ERC20 avg time between rec tnx                       9012 non-null   float64\n",
      " 36   ERC20 avg time between rec 2 tnx                     9012 non-null   float64\n",
      " 37   ERC20 avg time between contract tnx                  9012 non-null   float64\n",
      " 38   ERC20 min val rec                                    9012 non-null   float64\n",
      " 39   ERC20 max val rec                                    9012 non-null   float64\n",
      " 40   ERC20 avg val rec                                    9012 non-null   float64\n",
      " 41   ERC20 min val sent                                   9012 non-null   float64\n",
      " 42   ERC20 max val sent                                   9012 non-null   float64\n",
      " 43   ERC20 avg val sent                                   9012 non-null   float64\n",
      " 44   ERC20 min val sent contract                          9012 non-null   float64\n",
      " 45   ERC20 max val sent contract                          9012 non-null   float64\n",
      " 46   ERC20 avg val sent contract                          9012 non-null   float64\n",
      " 47   ERC20 uniq sent token name                           9012 non-null   float64\n",
      " 48   ERC20 uniq rec token name                            9012 non-null   float64\n",
      " 49   ERC20 most sent token type                           9000 non-null   object \n",
      " 50   ERC20_most_rec_token_type                            8990 non-null   object \n",
      "dtypes: float64(39), int64(9), object(3)\n",
      "memory usage: 3.8+ MB\n"
     ]
    }
   ],
   "source": [
    "#Info generica del dataset\n",
    "df.info()"
   ]
  },
  {
   "cell_type": "code",
   "execution_count": 542,
   "id": "83f69143",
   "metadata": {
    "scrolled": true
   },
   "outputs": [],
   "source": [
    "df.drop(['Unnamed: 0', 'Index', 'Address'], inplace=True, axis=1)"
   ]
  },
  {
   "cell_type": "markdown",
   "id": "a7ab84bb",
   "metadata": {},
   "source": [
    "En el análisis general vemos que tenemos 51 variables, de estas solo <b>FLAG, ERC20 most sent token type y ERC20_most_rec_token_type</b> son variables categóricas. \n",
    "\n",
    "Las variables <b>Unnamed:0, Index y Address </b> no se van a utilizar ya que son variables que o son índices o el address de la cuenta que no tienen ninguna relación con nuestra variable objetivo. "
   ]
  },
  {
   "cell_type": "code",
   "execution_count": 543,
   "id": "1ea0b879",
   "metadata": {},
   "outputs": [
    {
     "data": {
      "text/html": [
       "<div>\n",
       "<style scoped>\n",
       "    .dataframe tbody tr th:only-of-type {\n",
       "        vertical-align: middle;\n",
       "    }\n",
       "\n",
       "    .dataframe tbody tr th {\n",
       "        vertical-align: top;\n",
       "    }\n",
       "\n",
       "    .dataframe thead th {\n",
       "        text-align: right;\n",
       "    }\n",
       "</style>\n",
       "<table border=\"1\" class=\"dataframe\">\n",
       "  <thead>\n",
       "    <tr style=\"text-align: right;\">\n",
       "      <th></th>\n",
       "      <th>FLAG</th>\n",
       "      <th>Avg min between sent tnx</th>\n",
       "      <th>Avg min between received tnx</th>\n",
       "      <th>Time Diff between first and last (Mins)</th>\n",
       "      <th>Sent tnx</th>\n",
       "      <th>Received Tnx</th>\n",
       "      <th>Number of Created Contracts</th>\n",
       "      <th>Unique Received From Addresses</th>\n",
       "      <th>Unique Sent To Addresses</th>\n",
       "      <th>min value received</th>\n",
       "      <th>...</th>\n",
       "      <th>ERC20 max val rec</th>\n",
       "      <th>ERC20 avg val rec</th>\n",
       "      <th>ERC20 min val sent</th>\n",
       "      <th>ERC20 max val sent</th>\n",
       "      <th>ERC20 avg val sent</th>\n",
       "      <th>ERC20 min val sent contract</th>\n",
       "      <th>ERC20 max val sent contract</th>\n",
       "      <th>ERC20 avg val sent contract</th>\n",
       "      <th>ERC20 uniq sent token name</th>\n",
       "      <th>ERC20 uniq rec token name</th>\n",
       "    </tr>\n",
       "  </thead>\n",
       "  <tbody>\n",
       "    <tr>\n",
       "      <th>count</th>\n",
       "      <td>9841.000000</td>\n",
       "      <td>9841.000000</td>\n",
       "      <td>9841.000000</td>\n",
       "      <td>9.841000e+03</td>\n",
       "      <td>9841.000000</td>\n",
       "      <td>9841.000000</td>\n",
       "      <td>9841.000000</td>\n",
       "      <td>9841.000000</td>\n",
       "      <td>9841.000000</td>\n",
       "      <td>9841.000000</td>\n",
       "      <td>...</td>\n",
       "      <td>9.012000e+03</td>\n",
       "      <td>9.012000e+03</td>\n",
       "      <td>9.012000e+03</td>\n",
       "      <td>9.012000e+03</td>\n",
       "      <td>9.012000e+03</td>\n",
       "      <td>9012.0</td>\n",
       "      <td>9012.0</td>\n",
       "      <td>9012.0</td>\n",
       "      <td>9012.000000</td>\n",
       "      <td>9012.000000</td>\n",
       "    </tr>\n",
       "    <tr>\n",
       "      <th>mean</th>\n",
       "      <td>0.221421</td>\n",
       "      <td>5086.878721</td>\n",
       "      <td>8004.851184</td>\n",
       "      <td>2.183333e+05</td>\n",
       "      <td>115.931714</td>\n",
       "      <td>163.700945</td>\n",
       "      <td>3.729702</td>\n",
       "      <td>30.360939</td>\n",
       "      <td>25.840159</td>\n",
       "      <td>43.845153</td>\n",
       "      <td>...</td>\n",
       "      <td>1.252524e+08</td>\n",
       "      <td>4.346203e+06</td>\n",
       "      <td>1.174126e+04</td>\n",
       "      <td>1.303594e+07</td>\n",
       "      <td>6.318389e+06</td>\n",
       "      <td>0.0</td>\n",
       "      <td>0.0</td>\n",
       "      <td>0.0</td>\n",
       "      <td>1.384931</td>\n",
       "      <td>4.826676</td>\n",
       "    </tr>\n",
       "    <tr>\n",
       "      <th>std</th>\n",
       "      <td>0.415224</td>\n",
       "      <td>21486.549974</td>\n",
       "      <td>23081.714801</td>\n",
       "      <td>3.229379e+05</td>\n",
       "      <td>757.226361</td>\n",
       "      <td>940.836550</td>\n",
       "      <td>141.445583</td>\n",
       "      <td>298.621112</td>\n",
       "      <td>263.820410</td>\n",
       "      <td>325.929139</td>\n",
       "      <td>...</td>\n",
       "      <td>1.053741e+10</td>\n",
       "      <td>2.141192e+08</td>\n",
       "      <td>1.053567e+06</td>\n",
       "      <td>1.179905e+09</td>\n",
       "      <td>5.914764e+08</td>\n",
       "      <td>0.0</td>\n",
       "      <td>0.0</td>\n",
       "      <td>0.0</td>\n",
       "      <td>6.735121</td>\n",
       "      <td>16.678607</td>\n",
       "    </tr>\n",
       "    <tr>\n",
       "      <th>min</th>\n",
       "      <td>0.000000</td>\n",
       "      <td>0.000000</td>\n",
       "      <td>0.000000</td>\n",
       "      <td>0.000000e+00</td>\n",
       "      <td>0.000000</td>\n",
       "      <td>0.000000</td>\n",
       "      <td>0.000000</td>\n",
       "      <td>0.000000</td>\n",
       "      <td>0.000000</td>\n",
       "      <td>0.000000</td>\n",
       "      <td>...</td>\n",
       "      <td>0.000000e+00</td>\n",
       "      <td>0.000000e+00</td>\n",
       "      <td>0.000000e+00</td>\n",
       "      <td>0.000000e+00</td>\n",
       "      <td>0.000000e+00</td>\n",
       "      <td>0.0</td>\n",
       "      <td>0.0</td>\n",
       "      <td>0.0</td>\n",
       "      <td>0.000000</td>\n",
       "      <td>0.000000</td>\n",
       "    </tr>\n",
       "    <tr>\n",
       "      <th>25%</th>\n",
       "      <td>0.000000</td>\n",
       "      <td>0.000000</td>\n",
       "      <td>0.000000</td>\n",
       "      <td>3.169300e+02</td>\n",
       "      <td>1.000000</td>\n",
       "      <td>1.000000</td>\n",
       "      <td>0.000000</td>\n",
       "      <td>1.000000</td>\n",
       "      <td>1.000000</td>\n",
       "      <td>0.001000</td>\n",
       "      <td>...</td>\n",
       "      <td>0.000000e+00</td>\n",
       "      <td>0.000000e+00</td>\n",
       "      <td>0.000000e+00</td>\n",
       "      <td>0.000000e+00</td>\n",
       "      <td>0.000000e+00</td>\n",
       "      <td>0.0</td>\n",
       "      <td>0.0</td>\n",
       "      <td>0.0</td>\n",
       "      <td>0.000000</td>\n",
       "      <td>0.000000</td>\n",
       "    </tr>\n",
       "    <tr>\n",
       "      <th>50%</th>\n",
       "      <td>0.000000</td>\n",
       "      <td>17.340000</td>\n",
       "      <td>509.770000</td>\n",
       "      <td>4.663703e+04</td>\n",
       "      <td>3.000000</td>\n",
       "      <td>4.000000</td>\n",
       "      <td>0.000000</td>\n",
       "      <td>2.000000</td>\n",
       "      <td>2.000000</td>\n",
       "      <td>0.095856</td>\n",
       "      <td>...</td>\n",
       "      <td>0.000000e+00</td>\n",
       "      <td>0.000000e+00</td>\n",
       "      <td>0.000000e+00</td>\n",
       "      <td>0.000000e+00</td>\n",
       "      <td>0.000000e+00</td>\n",
       "      <td>0.0</td>\n",
       "      <td>0.0</td>\n",
       "      <td>0.0</td>\n",
       "      <td>0.000000</td>\n",
       "      <td>1.000000</td>\n",
       "    </tr>\n",
       "    <tr>\n",
       "      <th>75%</th>\n",
       "      <td>0.000000</td>\n",
       "      <td>565.470000</td>\n",
       "      <td>5480.390000</td>\n",
       "      <td>3.040710e+05</td>\n",
       "      <td>11.000000</td>\n",
       "      <td>27.000000</td>\n",
       "      <td>0.000000</td>\n",
       "      <td>5.000000</td>\n",
       "      <td>3.000000</td>\n",
       "      <td>2.000000</td>\n",
       "      <td>...</td>\n",
       "      <td>9.900000e+01</td>\n",
       "      <td>2.946467e+01</td>\n",
       "      <td>0.000000e+00</td>\n",
       "      <td>0.000000e+00</td>\n",
       "      <td>0.000000e+00</td>\n",
       "      <td>0.0</td>\n",
       "      <td>0.0</td>\n",
       "      <td>0.0</td>\n",
       "      <td>0.000000</td>\n",
       "      <td>2.000000</td>\n",
       "    </tr>\n",
       "    <tr>\n",
       "      <th>max</th>\n",
       "      <td>1.000000</td>\n",
       "      <td>430287.670000</td>\n",
       "      <td>482175.490000</td>\n",
       "      <td>1.954861e+06</td>\n",
       "      <td>10000.000000</td>\n",
       "      <td>10000.000000</td>\n",
       "      <td>9995.000000</td>\n",
       "      <td>9999.000000</td>\n",
       "      <td>9287.000000</td>\n",
       "      <td>10000.000000</td>\n",
       "      <td>...</td>\n",
       "      <td>1.000000e+12</td>\n",
       "      <td>1.724181e+10</td>\n",
       "      <td>1.000000e+08</td>\n",
       "      <td>1.120000e+11</td>\n",
       "      <td>5.614756e+10</td>\n",
       "      <td>0.0</td>\n",
       "      <td>0.0</td>\n",
       "      <td>0.0</td>\n",
       "      <td>213.000000</td>\n",
       "      <td>737.000000</td>\n",
       "    </tr>\n",
       "  </tbody>\n",
       "</table>\n",
       "<p>8 rows × 46 columns</p>\n",
       "</div>"
      ],
      "text/plain": [
       "              FLAG  Avg min between sent tnx  Avg min between received tnx  \\\n",
       "count  9841.000000               9841.000000                   9841.000000   \n",
       "mean      0.221421               5086.878721                   8004.851184   \n",
       "std       0.415224              21486.549974                  23081.714801   \n",
       "min       0.000000                  0.000000                      0.000000   \n",
       "25%       0.000000                  0.000000                      0.000000   \n",
       "50%       0.000000                 17.340000                    509.770000   \n",
       "75%       0.000000                565.470000                   5480.390000   \n",
       "max       1.000000             430287.670000                 482175.490000   \n",
       "\n",
       "       Time Diff between first and last (Mins)      Sent tnx  Received Tnx  \\\n",
       "count                             9.841000e+03   9841.000000   9841.000000   \n",
       "mean                              2.183333e+05    115.931714    163.700945   \n",
       "std                               3.229379e+05    757.226361    940.836550   \n",
       "min                               0.000000e+00      0.000000      0.000000   \n",
       "25%                               3.169300e+02      1.000000      1.000000   \n",
       "50%                               4.663703e+04      3.000000      4.000000   \n",
       "75%                               3.040710e+05     11.000000     27.000000   \n",
       "max                               1.954861e+06  10000.000000  10000.000000   \n",
       "\n",
       "       Number of Created Contracts  Unique Received From Addresses  \\\n",
       "count                  9841.000000                     9841.000000   \n",
       "mean                      3.729702                       30.360939   \n",
       "std                     141.445583                      298.621112   \n",
       "min                       0.000000                        0.000000   \n",
       "25%                       0.000000                        1.000000   \n",
       "50%                       0.000000                        2.000000   \n",
       "75%                       0.000000                        5.000000   \n",
       "max                    9995.000000                     9999.000000   \n",
       "\n",
       "       Unique Sent To Addresses  min value received  ...   ERC20 max val rec  \\\n",
       "count               9841.000000         9841.000000  ...        9.012000e+03   \n",
       "mean                  25.840159           43.845153  ...        1.252524e+08   \n",
       "std                  263.820410          325.929139  ...        1.053741e+10   \n",
       "min                    0.000000            0.000000  ...        0.000000e+00   \n",
       "25%                    1.000000            0.001000  ...        0.000000e+00   \n",
       "50%                    2.000000            0.095856  ...        0.000000e+00   \n",
       "75%                    3.000000            2.000000  ...        9.900000e+01   \n",
       "max                 9287.000000        10000.000000  ...        1.000000e+12   \n",
       "\n",
       "        ERC20 avg val rec   ERC20 min val sent   ERC20 max val sent  \\\n",
       "count        9.012000e+03         9.012000e+03         9.012000e+03   \n",
       "mean         4.346203e+06         1.174126e+04         1.303594e+07   \n",
       "std          2.141192e+08         1.053567e+06         1.179905e+09   \n",
       "min          0.000000e+00         0.000000e+00         0.000000e+00   \n",
       "25%          0.000000e+00         0.000000e+00         0.000000e+00   \n",
       "50%          0.000000e+00         0.000000e+00         0.000000e+00   \n",
       "75%          2.946467e+01         0.000000e+00         0.000000e+00   \n",
       "max          1.724181e+10         1.000000e+08         1.120000e+11   \n",
       "\n",
       "        ERC20 avg val sent   ERC20 min val sent contract  \\\n",
       "count         9.012000e+03                        9012.0   \n",
       "mean          6.318389e+06                           0.0   \n",
       "std           5.914764e+08                           0.0   \n",
       "min           0.000000e+00                           0.0   \n",
       "25%           0.000000e+00                           0.0   \n",
       "50%           0.000000e+00                           0.0   \n",
       "75%           0.000000e+00                           0.0   \n",
       "max           5.614756e+10                           0.0   \n",
       "\n",
       "        ERC20 max val sent contract   ERC20 avg val sent contract  \\\n",
       "count                        9012.0                        9012.0   \n",
       "mean                            0.0                           0.0   \n",
       "std                             0.0                           0.0   \n",
       "min                             0.0                           0.0   \n",
       "25%                             0.0                           0.0   \n",
       "50%                             0.0                           0.0   \n",
       "75%                             0.0                           0.0   \n",
       "max                             0.0                           0.0   \n",
       "\n",
       "        ERC20 uniq sent token name   ERC20 uniq rec token name  \n",
       "count                  9012.000000                 9012.000000  \n",
       "mean                      1.384931                    4.826676  \n",
       "std                       6.735121                   16.678607  \n",
       "min                       0.000000                    0.000000  \n",
       "25%                       0.000000                    0.000000  \n",
       "50%                       0.000000                    1.000000  \n",
       "75%                       0.000000                    2.000000  \n",
       "max                     213.000000                  737.000000  \n",
       "\n",
       "[8 rows x 46 columns]"
      ]
     },
     "execution_count": 543,
     "metadata": {},
     "output_type": "execute_result"
    }
   ],
   "source": [
    "#Genero estadisticas simples\n",
    "df.describe()"
   ]
  },
  {
   "cell_type": "markdown",
   "id": "6de7479e",
   "metadata": {},
   "source": [
    "Después se hizo un df.describe() sobre las variables continuas, y encontramos algo muy curioso en algunas variables y es que desde el percentil 25 al 75 el valor es cero, esto nos está diciendo que para algunas variables el 75% o más de los datos son un cero. Más adelante se hará el análisis a fondo de esta variables.  \n"
   ]
  },
  {
   "cell_type": "markdown",
   "id": "5497579a",
   "metadata": {},
   "source": [
    "## Variable target\n"
   ]
  },
  {
   "cell_type": "code",
   "execution_count": 544,
   "id": "18d27b51",
   "metadata": {},
   "outputs": [
    {
     "name": "stdout",
     "output_type": "stream",
     "text": [
      "Procentaje de transacciones no fraudulentas : 77.85794126613149\n",
      "Procentaje de transacciones fraudulentas : 22.14205873386851\n"
     ]
    }
   ],
   "source": [
    "print(f'Procentaje de transacciones no fraudulentas : {len(df.loc[df[\"FLAG\"]==0])/len(df[\"FLAG\"])*100}')\n",
    "print(f'Procentaje de transacciones fraudulentas : {len(df.loc[df[\"FLAG\"]==1])/len(df[\"FLAG\"])*100}')"
   ]
  },
  {
   "cell_type": "code",
   "execution_count": 545,
   "id": "50063971",
   "metadata": {
    "scrolled": false
   },
   "outputs": [
    {
     "data": {
      "text/plain": [
       "Text(0.5, 1.0, 'Distribucion de la columna Target')"
      ]
     },
     "execution_count": 545,
     "metadata": {},
     "output_type": "execute_result"
    },
    {
     "data": {
      "image/png": "[encoded data removed]",
      "text/plain": [
       "<Figure size 1080x720 with 1 Axes>"
      ]
     },
     "metadata": {},
     "output_type": "display_data"
    }
   ],
   "source": [
    "pie, ax = plt.subplots(figsize=[15,10])\n",
    "labels = ['No Fraude', 'Fraude']\n",
    "colors = ['#f9ae35', '#f64e38']\n",
    "plt.pie(x = df['FLAG'].value_counts(), autopct='%.2f%%', explode=[0.02]*2, labels=labels, pctdistance=0.5, textprops={'fontsize': 14}, colors = colors)\n",
    "plt.title('Distribucion de la columna Target')\n",
    "\n",
    "\n",
    "#TODO no se por que no me lo muestra"
   ]
  },
  {
   "cell_type": "markdown",
   "id": "fe55863e",
   "metadata": {},
   "source": [
    "En nuestra variable target tenemos 2179 ejemplos de fraude y 9841 ejemplos totales, lo que nos da un 22% de ejemplos de fraude en el data set. Esto quiere decir que tenemos un dataset desbalanceado y que antes de hacer el modelo tendremos que emplear alguna técnica para balancear o si no podemos entrenar el modelo a pensar que todos los casos no son fraude. \n"
   ]
  },
  {
   "cell_type": "markdown",
   "id": "e24e123e",
   "metadata": {},
   "source": [
    "## Nulos y valores en cero\n",
    "\n",
    "<p>Nulos y valores en cero\n",
    "<p>Se hizo un conteo de nulos y valores diferente a cero para cada una de las variables, esto ya que como vimos en el cuadro de describe habían unas variables que el el percentil 75 tenían cero, lo que nos da la idea de que esas variables pueden solo tenemos valores en cero y no aportar información al modelo. \n",
    "\n"
   ]
  },
  {
   "cell_type": "code",
   "execution_count": 546,
   "id": "bdfe3cd3",
   "metadata": {},
   "outputs": [
    {
     "data": {
      "text/html": [
       "<div>\n",
       "<style scoped>\n",
       "    .dataframe tbody tr th:only-of-type {\n",
       "        vertical-align: middle;\n",
       "    }\n",
       "\n",
       "    .dataframe tbody tr th {\n",
       "        vertical-align: top;\n",
       "    }\n",
       "\n",
       "    .dataframe thead th {\n",
       "        text-align: right;\n",
       "    }\n",
       "</style>\n",
       "<table border=\"1\" class=\"dataframe\">\n",
       "  <thead>\n",
       "    <tr style=\"text-align: right;\">\n",
       "      <th></th>\n",
       "      <th>null percent</th>\n",
       "      <th>non-zero percent</th>\n",
       "      <th>non-null non-zero</th>\n",
       "    </tr>\n",
       "  </thead>\n",
       "  <tbody>\n",
       "    <tr>\n",
       "      <th>ERC20 avg time between rec 2 tnx</th>\n",
       "      <td>8.423941</td>\n",
       "      <td>8.423941</td>\n",
       "      <td>0.000000</td>\n",
       "    </tr>\n",
       "    <tr>\n",
       "      <th>ERC20 avg val sent contract</th>\n",
       "      <td>8.423941</td>\n",
       "      <td>8.423941</td>\n",
       "      <td>0.000000</td>\n",
       "    </tr>\n",
       "    <tr>\n",
       "      <th>ERC20 max val sent contract</th>\n",
       "      <td>8.423941</td>\n",
       "      <td>8.423941</td>\n",
       "      <td>0.000000</td>\n",
       "    </tr>\n",
       "    <tr>\n",
       "      <th>ERC20 min val sent contract</th>\n",
       "      <td>8.423941</td>\n",
       "      <td>8.423941</td>\n",
       "      <td>0.000000</td>\n",
       "    </tr>\n",
       "    <tr>\n",
       "      <th>ERC20 avg time between rec tnx</th>\n",
       "      <td>8.423941</td>\n",
       "      <td>8.423941</td>\n",
       "      <td>0.000000</td>\n",
       "    </tr>\n",
       "    <tr>\n",
       "      <th>ERC20 avg time between contract tnx</th>\n",
       "      <td>8.423941</td>\n",
       "      <td>8.423941</td>\n",
       "      <td>0.000000</td>\n",
       "    </tr>\n",
       "    <tr>\n",
       "      <th>ERC20 avg time between sent tnx</th>\n",
       "      <td>8.423941</td>\n",
       "      <td>8.423941</td>\n",
       "      <td>0.000000</td>\n",
       "    </tr>\n",
       "    <tr>\n",
       "      <th>min value sent to contract</th>\n",
       "      <td>0.000000</td>\n",
       "      <td>0.020323</td>\n",
       "      <td>0.020323</td>\n",
       "    </tr>\n",
       "    <tr>\n",
       "      <th>total ether sent contracts</th>\n",
       "      <td>0.000000</td>\n",
       "      <td>0.030485</td>\n",
       "      <td>0.030485</td>\n",
       "    </tr>\n",
       "    <tr>\n",
       "      <th>avg value sent to contract</th>\n",
       "      <td>0.000000</td>\n",
       "      <td>0.030485</td>\n",
       "      <td>0.030485</td>\n",
       "    </tr>\n",
       "    <tr>\n",
       "      <th>max val sent to contract</th>\n",
       "      <td>0.000000</td>\n",
       "      <td>0.030485</td>\n",
       "      <td>0.030485</td>\n",
       "    </tr>\n",
       "    <tr>\n",
       "      <th>ERC20 uniq sent addr.1</th>\n",
       "      <td>8.423941</td>\n",
       "      <td>8.708465</td>\n",
       "      <td>0.284524</td>\n",
       "    </tr>\n",
       "    <tr>\n",
       "      <th>ERC20 total Ether sent contract</th>\n",
       "      <td>8.423941</td>\n",
       "      <td>8.708465</td>\n",
       "      <td>0.284524</td>\n",
       "    </tr>\n",
       "    <tr>\n",
       "      <th>ERC20 min val sent</th>\n",
       "      <td>8.423941</td>\n",
       "      <td>16.217864</td>\n",
       "      <td>7.793923</td>\n",
       "    </tr>\n",
       "    <tr>\n",
       "      <th>Number of Created Contracts</th>\n",
       "      <td>0.000000</td>\n",
       "      <td>13.779087</td>\n",
       "      <td>13.779087</td>\n",
       "    </tr>\n",
       "    <tr>\n",
       "      <th>ERC20 avg val sent</th>\n",
       "      <td>8.423941</td>\n",
       "      <td>23.341124</td>\n",
       "      <td>14.917183</td>\n",
       "    </tr>\n",
       "    <tr>\n",
       "      <th>ERC20 max val sent</th>\n",
       "      <td>8.423941</td>\n",
       "      <td>23.432578</td>\n",
       "      <td>15.008637</td>\n",
       "    </tr>\n",
       "    <tr>\n",
       "      <th>ERC20 total ether sent</th>\n",
       "      <td>8.423941</td>\n",
       "      <td>24.336958</td>\n",
       "      <td>15.913017</td>\n",
       "    </tr>\n",
       "    <tr>\n",
       "      <th>ERC20 uniq sent addr</th>\n",
       "      <td>8.423941</td>\n",
       "      <td>24.336958</td>\n",
       "      <td>15.913017</td>\n",
       "    </tr>\n",
       "    <tr>\n",
       "      <th>ERC20 uniq sent token name</th>\n",
       "      <td>8.423941</td>\n",
       "      <td>24.336958</td>\n",
       "      <td>15.913017</td>\n",
       "    </tr>\n",
       "    <tr>\n",
       "      <th>FLAG</th>\n",
       "      <td>0.000000</td>\n",
       "      <td>22.142059</td>\n",
       "      <td>22.142059</td>\n",
       "    </tr>\n",
       "    <tr>\n",
       "      <th>ERC20 min val rec</th>\n",
       "      <td>8.423941</td>\n",
       "      <td>31.541510</td>\n",
       "      <td>23.117569</td>\n",
       "    </tr>\n",
       "    <tr>\n",
       "      <th>ERC20 avg val rec</th>\n",
       "      <td>8.423941</td>\n",
       "      <td>53.338075</td>\n",
       "      <td>44.914135</td>\n",
       "    </tr>\n",
       "    <tr>\n",
       "      <th>ERC20 max val rec</th>\n",
       "      <td>8.423941</td>\n",
       "      <td>53.388883</td>\n",
       "      <td>44.964943</td>\n",
       "    </tr>\n",
       "    <tr>\n",
       "      <th>ERC20 total Ether received</th>\n",
       "      <td>8.423941</td>\n",
       "      <td>54.882634</td>\n",
       "      <td>46.458693</td>\n",
       "    </tr>\n",
       "    <tr>\n",
       "      <th>ERC20 uniq rec contract addr</th>\n",
       "      <td>8.423941</td>\n",
       "      <td>54.892795</td>\n",
       "      <td>46.468855</td>\n",
       "    </tr>\n",
       "    <tr>\n",
       "      <th>ERC20 uniq rec addr</th>\n",
       "      <td>8.423941</td>\n",
       "      <td>54.892795</td>\n",
       "      <td>46.468855</td>\n",
       "    </tr>\n",
       "    <tr>\n",
       "      <th>ERC20 uniq rec token name</th>\n",
       "      <td>8.423941</td>\n",
       "      <td>54.892795</td>\n",
       "      <td>46.468855</td>\n",
       "    </tr>\n",
       "    <tr>\n",
       "      <th>Total ERC20 tnxs</th>\n",
       "      <td>8.423941</td>\n",
       "      <td>55.299258</td>\n",
       "      <td>46.875318</td>\n",
       "    </tr>\n",
       "    <tr>\n",
       "      <th>min val sent</th>\n",
       "      <td>0.000000</td>\n",
       "      <td>63.977238</td>\n",
       "      <td>63.977238</td>\n",
       "    </tr>\n",
       "    <tr>\n",
       "      <th>Avg min between sent tnx</th>\n",
       "      <td>0.000000</td>\n",
       "      <td>64.210954</td>\n",
       "      <td>64.210954</td>\n",
       "    </tr>\n",
       "    <tr>\n",
       "      <th>Avg min between received tnx</th>\n",
       "      <td>0.000000</td>\n",
       "      <td>71.252921</td>\n",
       "      <td>71.252921</td>\n",
       "    </tr>\n",
       "    <tr>\n",
       "      <th>min value received</th>\n",
       "      <td>0.000000</td>\n",
       "      <td>78.965552</td>\n",
       "      <td>78.965552</td>\n",
       "    </tr>\n",
       "    <tr>\n",
       "      <th>total Ether sent</th>\n",
       "      <td>0.000000</td>\n",
       "      <td>78.996037</td>\n",
       "      <td>78.996037</td>\n",
       "    </tr>\n",
       "    <tr>\n",
       "      <th>avg val sent</th>\n",
       "      <td>0.000000</td>\n",
       "      <td>78.996037</td>\n",
       "      <td>78.996037</td>\n",
       "    </tr>\n",
       "    <tr>\n",
       "      <th>max val sent</th>\n",
       "      <td>0.000000</td>\n",
       "      <td>78.996037</td>\n",
       "      <td>78.996037</td>\n",
       "    </tr>\n",
       "    <tr>\n",
       "      <th>Sent tnx</th>\n",
       "      <td>0.000000</td>\n",
       "      <td>79.524439</td>\n",
       "      <td>79.524439</td>\n",
       "    </tr>\n",
       "    <tr>\n",
       "      <th>Unique Sent To Addresses</th>\n",
       "      <td>0.000000</td>\n",
       "      <td>79.524439</td>\n",
       "      <td>79.524439</td>\n",
       "    </tr>\n",
       "    <tr>\n",
       "      <th>ERC20_most_rec_token_type</th>\n",
       "      <td>8.647495</td>\n",
       "      <td>100.000000</td>\n",
       "      <td>91.352505</td>\n",
       "    </tr>\n",
       "    <tr>\n",
       "      <th>avg val received</th>\n",
       "      <td>0.000000</td>\n",
       "      <td>92.795448</td>\n",
       "      <td>92.795448</td>\n",
       "    </tr>\n",
       "    <tr>\n",
       "      <th>max value received</th>\n",
       "      <td>0.000000</td>\n",
       "      <td>92.815771</td>\n",
       "      <td>92.815771</td>\n",
       "    </tr>\n",
       "    <tr>\n",
       "      <th>total ether received</th>\n",
       "      <td>0.000000</td>\n",
       "      <td>92.815771</td>\n",
       "      <td>92.815771</td>\n",
       "    </tr>\n",
       "    <tr>\n",
       "      <th>total ether balance</th>\n",
       "      <td>0.000000</td>\n",
       "      <td>92.927548</td>\n",
       "      <td>92.927548</td>\n",
       "    </tr>\n",
       "    <tr>\n",
       "      <th>Time Diff between first and last (Mins)</th>\n",
       "      <td>0.000000</td>\n",
       "      <td>93.588050</td>\n",
       "      <td>93.588050</td>\n",
       "    </tr>\n",
       "    <tr>\n",
       "      <th>Unique Received From Addresses</th>\n",
       "      <td>0.000000</td>\n",
       "      <td>94.400976</td>\n",
       "      <td>94.400976</td>\n",
       "    </tr>\n",
       "    <tr>\n",
       "      <th>Received Tnx</th>\n",
       "      <td>0.000000</td>\n",
       "      <td>94.400976</td>\n",
       "      <td>94.400976</td>\n",
       "    </tr>\n",
       "    <tr>\n",
       "      <th>total transactions (including tnx to create contract</th>\n",
       "      <td>0.000000</td>\n",
       "      <td>94.624530</td>\n",
       "      <td>94.624530</td>\n",
       "    </tr>\n",
       "  </tbody>\n",
       "</table>\n",
       "</div>"
      ],
      "text/plain": [
       "                                                    null percent  \\\n",
       " ERC20 avg time between rec 2 tnx                       8.423941   \n",
       " ERC20 avg val sent contract                            8.423941   \n",
       " ERC20 max val sent contract                            8.423941   \n",
       " ERC20 min val sent contract                            8.423941   \n",
       " ERC20 avg time between rec tnx                         8.423941   \n",
       " ERC20 avg time between contract tnx                    8.423941   \n",
       " ERC20 avg time between sent tnx                        8.423941   \n",
       "min value sent to contract                              0.000000   \n",
       "total ether sent contracts                              0.000000   \n",
       "avg value sent to contract                              0.000000   \n",
       "max val sent to contract                                0.000000   \n",
       " ERC20 uniq sent addr.1                                 8.423941   \n",
       " ERC20 total Ether sent contract                        8.423941   \n",
       " ERC20 min val sent                                     8.423941   \n",
       "Number of Created Contracts                             0.000000   \n",
       " ERC20 avg val sent                                     8.423941   \n",
       " ERC20 max val sent                                     8.423941   \n",
       " ERC20 total ether sent                                 8.423941   \n",
       " ERC20 uniq sent addr                                   8.423941   \n",
       " ERC20 uniq sent token name                             8.423941   \n",
       "FLAG                                                    0.000000   \n",
       " ERC20 min val rec                                      8.423941   \n",
       " ERC20 avg val rec                                      8.423941   \n",
       " ERC20 max val rec                                      8.423941   \n",
       " ERC20 total Ether received                             8.423941   \n",
       " ERC20 uniq rec contract addr                           8.423941   \n",
       " ERC20 uniq rec addr                                    8.423941   \n",
       " ERC20 uniq rec token name                              8.423941   \n",
       " Total ERC20 tnxs                                       8.423941   \n",
       "min val sent                                            0.000000   \n",
       "Avg min between sent tnx                                0.000000   \n",
       "Avg min between received tnx                            0.000000   \n",
       "min value received                                      0.000000   \n",
       "total Ether sent                                        0.000000   \n",
       "avg val sent                                            0.000000   \n",
       "max val sent                                            0.000000   \n",
       "Sent tnx                                                0.000000   \n",
       "Unique Sent To Addresses                                0.000000   \n",
       " ERC20_most_rec_token_type                              8.647495   \n",
       "avg val received                                        0.000000   \n",
       "max value received                                      0.000000   \n",
       "total ether received                                    0.000000   \n",
       "total ether balance                                     0.000000   \n",
       "Time Diff between first and last (Mins)                 0.000000   \n",
       "Unique Received From Addresses                          0.000000   \n",
       "Received Tnx                                            0.000000   \n",
       "total transactions (including tnx to create con...      0.000000   \n",
       "\n",
       "                                                    non-zero percent  \\\n",
       " ERC20 avg time between rec 2 tnx                           8.423941   \n",
       " ERC20 avg val sent contract                                8.423941   \n",
       " ERC20 max val sent contract                                8.423941   \n",
       " ERC20 min val sent contract                                8.423941   \n",
       " ERC20 avg time between rec tnx                             8.423941   \n",
       " ERC20 avg time between contract tnx                        8.423941   \n",
       " ERC20 avg time between sent tnx                            8.423941   \n",
       "min value sent to contract                                  0.020323   \n",
       "total ether sent contracts                                  0.030485   \n",
       "avg value sent to contract                                  0.030485   \n",
       "max val sent to contract                                    0.030485   \n",
       " ERC20 uniq sent addr.1                                     8.708465   \n",
       " ERC20 total Ether sent contract                            8.708465   \n",
       " ERC20 min val sent                                        16.217864   \n",
       "Number of Created Contracts                                13.779087   \n",
       " ERC20 avg val sent                                        23.341124   \n",
       " ERC20 max val sent                                        23.432578   \n",
       " ERC20 total ether sent                                    24.336958   \n",
       " ERC20 uniq sent addr                                      24.336958   \n",
       " ERC20 uniq sent token name                                24.336958   \n",
       "FLAG                                                       22.142059   \n",
       " ERC20 min val rec                                         31.541510   \n",
       " ERC20 avg val rec                                         53.338075   \n",
       " ERC20 max val rec                                         53.388883   \n",
       " ERC20 total Ether received                                54.882634   \n",
       " ERC20 uniq rec contract addr                              54.892795   \n",
       " ERC20 uniq rec addr                                       54.892795   \n",
       " ERC20 uniq rec token name                                 54.892795   \n",
       " Total ERC20 tnxs                                          55.299258   \n",
       "min val sent                                               63.977238   \n",
       "Avg min between sent tnx                                   64.210954   \n",
       "Avg min between received tnx                               71.252921   \n",
       "min value received                                         78.965552   \n",
       "total Ether sent                                           78.996037   \n",
       "avg val sent                                               78.996037   \n",
       "max val sent                                               78.996037   \n",
       "Sent tnx                                                   79.524439   \n",
       "Unique Sent To Addresses                                   79.524439   \n",
       " ERC20_most_rec_token_type                                100.000000   \n",
       "avg val received                                           92.795448   \n",
       "max value received                                         92.815771   \n",
       "total ether received                                       92.815771   \n",
       "total ether balance                                        92.927548   \n",
       "Time Diff between first and last (Mins)                    93.588050   \n",
       "Unique Received From Addresses                             94.400976   \n",
       "Received Tnx                                               94.400976   \n",
       "total transactions (including tnx to create con...         94.624530   \n",
       "\n",
       "                                                    non-null non-zero  \n",
       " ERC20 avg time between rec 2 tnx                            0.000000  \n",
       " ERC20 avg val sent contract                                 0.000000  \n",
       " ERC20 max val sent contract                                 0.000000  \n",
       " ERC20 min val sent contract                                 0.000000  \n",
       " ERC20 avg time between rec tnx                              0.000000  \n",
       " ERC20 avg time between contract tnx                         0.000000  \n",
       " ERC20 avg time between sent tnx                             0.000000  \n",
       "min value sent to contract                                   0.020323  \n",
       "total ether sent contracts                                   0.030485  \n",
       "avg value sent to contract                                   0.030485  \n",
       "max val sent to contract                                     0.030485  \n",
       " ERC20 uniq sent addr.1                                      0.284524  \n",
       " ERC20 total Ether sent contract                             0.284524  \n",
       " ERC20 min val sent                                          7.793923  \n",
       "Number of Created Contracts                                 13.779087  \n",
       " ERC20 avg val sent                                         14.917183  \n",
       " ERC20 max val sent                                         15.008637  \n",
       " ERC20 total ether sent                                     15.913017  \n",
       " ERC20 uniq sent addr                                       15.913017  \n",
       " ERC20 uniq sent token name                                 15.913017  \n",
       "FLAG                                                        22.142059  \n",
       " ERC20 min val rec                                          23.117569  \n",
       " ERC20 avg val rec                                          44.914135  \n",
       " ERC20 max val rec                                          44.964943  \n",
       " ERC20 total Ether received                                 46.458693  \n",
       " ERC20 uniq rec contract addr                               46.468855  \n",
       " ERC20 uniq rec addr                                        46.468855  \n",
       " ERC20 uniq rec token name                                  46.468855  \n",
       " Total ERC20 tnxs                                           46.875318  \n",
       "min val sent                                                63.977238  \n",
       "Avg min between sent tnx                                    64.210954  \n",
       "Avg min between received tnx                                71.252921  \n",
       "min value received                                          78.965552  \n",
       "total Ether sent                                            78.996037  \n",
       "avg val sent                                                78.996037  \n",
       "max val sent                                                78.996037  \n",
       "Sent tnx                                                    79.524439  \n",
       "Unique Sent To Addresses                                    79.524439  \n",
       " ERC20_most_rec_token_type                                  91.352505  \n",
       "avg val received                                            92.795448  \n",
       "max value received                                          92.815771  \n",
       "total ether received                                        92.815771  \n",
       "total ether balance                                         92.927548  \n",
       "Time Diff between first and last (Mins)                     93.588050  \n",
       "Unique Received From Addresses                              94.400976  \n",
       "Received Tnx                                                94.400976  \n",
       "total transactions (including tnx to create con...          94.624530  "
      ]
     },
     "execution_count": 546,
     "metadata": {},
     "output_type": "execute_result"
    }
   ],
   "source": [
    "percent_missing = df.isnull().sum() / len(df) * 100\n",
    "df_summary = percent_missing.to_frame(name='null percent')\n",
    "\n",
    "# Cuenta los valores que no son ceros \n",
    "non_zeros = (df[:] != 0).sum()/ len(df) * 100\n",
    "df_summary2 = non_zeros.to_frame(name='non-zero percent')\n",
    "\n",
    "df_summary = df_summary.merge(df_summary2, left_index=True, right_index=True)\n",
    "df_summary['non-null non-zero'] = df_summary['non-zero percent'] - df_summary['null percent']\n",
    "df_summary.sort_values(by='non-null non-zero')"
   ]
  },
  {
   "cell_type": "code",
   "execution_count": 547,
   "id": "d5ee27d1",
   "metadata": {},
   "outputs": [
    {
     "ename": "KeyError",
     "evalue": "\"['Unnamed: 0' 'Index' 'Address'] not found in axis\"",
     "output_type": "error",
     "traceback": [
      "\u001b[1;31m---------------------------------------------------------------------------\u001b[0m",
      "\u001b[1;31mKeyError\u001b[0m                                  Traceback (most recent call last)",
      "\u001b[1;32m~\\AppData\\Local\\Temp/ipykernel_15100/4154673350.py\u001b[0m in \u001b[0;36m<module>\u001b[1;34m\u001b[0m\n\u001b[0;32m     15\u001b[0m \u001b[1;33m\u001b[0m\u001b[0m\n\u001b[0;32m     16\u001b[0m \u001b[0mdf_copy\u001b[0m \u001b[1;33m=\u001b[0m \u001b[0mdf\u001b[0m\u001b[1;33m\u001b[0m\u001b[1;33m\u001b[0m\u001b[0m\n\u001b[1;32m---> 17\u001b[1;33m \u001b[0mdf\u001b[0m\u001b[1;33m.\u001b[0m\u001b[0mdrop\u001b[0m\u001b[1;33m(\u001b[0m\u001b[0mcolumns\u001b[0m\u001b[1;33m,\u001b[0m \u001b[0maxis\u001b[0m \u001b[1;33m=\u001b[0m\u001b[1;36m1\u001b[0m \u001b[1;33m,\u001b[0m \u001b[0minplace\u001b[0m \u001b[1;33m=\u001b[0m \u001b[1;32mTrue\u001b[0m\u001b[1;33m)\u001b[0m\u001b[1;33m\u001b[0m\u001b[1;33m\u001b[0m\u001b[0m\n\u001b[0m",
      "\u001b[1;32mC:\\ProgramData\\Anaconda3\\lib\\site-packages\\pandas\\util\\_decorators.py\u001b[0m in \u001b[0;36mwrapper\u001b[1;34m(*args, **kwargs)\u001b[0m\n\u001b[0;32m    309\u001b[0m                     \u001b[0mstacklevel\u001b[0m\u001b[1;33m=\u001b[0m\u001b[0mstacklevel\u001b[0m\u001b[1;33m,\u001b[0m\u001b[1;33m\u001b[0m\u001b[1;33m\u001b[0m\u001b[0m\n\u001b[0;32m    310\u001b[0m                 )\n\u001b[1;32m--> 311\u001b[1;33m             \u001b[1;32mreturn\u001b[0m \u001b[0mfunc\u001b[0m\u001b[1;33m(\u001b[0m\u001b[1;33m*\u001b[0m\u001b[0margs\u001b[0m\u001b[1;33m,\u001b[0m \u001b[1;33m**\u001b[0m\u001b[0mkwargs\u001b[0m\u001b[1;33m)\u001b[0m\u001b[1;33m\u001b[0m\u001b[1;33m\u001b[0m\u001b[0m\n\u001b[0m\u001b[0;32m    312\u001b[0m \u001b[1;33m\u001b[0m\u001b[0m\n\u001b[0;32m    313\u001b[0m         \u001b[1;32mreturn\u001b[0m \u001b[0mwrapper\u001b[0m\u001b[1;33m\u001b[0m\u001b[1;33m\u001b[0m\u001b[0m\n",
      "\u001b[1;32mC:\\ProgramData\\Anaconda3\\lib\\site-packages\\pandas\\core\\frame.py\u001b[0m in \u001b[0;36mdrop\u001b[1;34m(self, labels, axis, index, columns, level, inplace, errors)\u001b[0m\n\u001b[0;32m   4904\u001b[0m                 \u001b[0mweight\u001b[0m  \u001b[1;36m1.0\u001b[0m     \u001b[1;36m0.8\u001b[0m\u001b[1;33m\u001b[0m\u001b[1;33m\u001b[0m\u001b[0m\n\u001b[0;32m   4905\u001b[0m         \"\"\"\n\u001b[1;32m-> 4906\u001b[1;33m         return super().drop(\n\u001b[0m\u001b[0;32m   4907\u001b[0m             \u001b[0mlabels\u001b[0m\u001b[1;33m=\u001b[0m\u001b[0mlabels\u001b[0m\u001b[1;33m,\u001b[0m\u001b[1;33m\u001b[0m\u001b[1;33m\u001b[0m\u001b[0m\n\u001b[0;32m   4908\u001b[0m             \u001b[0maxis\u001b[0m\u001b[1;33m=\u001b[0m\u001b[0maxis\u001b[0m\u001b[1;33m,\u001b[0m\u001b[1;33m\u001b[0m\u001b[1;33m\u001b[0m\u001b[0m\n",
      "\u001b[1;32mC:\\ProgramData\\Anaconda3\\lib\\site-packages\\pandas\\core\\generic.py\u001b[0m in \u001b[0;36mdrop\u001b[1;34m(self, labels, axis, index, columns, level, inplace, errors)\u001b[0m\n\u001b[0;32m   4148\u001b[0m         \u001b[1;32mfor\u001b[0m \u001b[0maxis\u001b[0m\u001b[1;33m,\u001b[0m \u001b[0mlabels\u001b[0m \u001b[1;32min\u001b[0m \u001b[0maxes\u001b[0m\u001b[1;33m.\u001b[0m\u001b[0mitems\u001b[0m\u001b[1;33m(\u001b[0m\u001b[1;33m)\u001b[0m\u001b[1;33m:\u001b[0m\u001b[1;33m\u001b[0m\u001b[1;33m\u001b[0m\u001b[0m\n\u001b[0;32m   4149\u001b[0m             \u001b[1;32mif\u001b[0m \u001b[0mlabels\u001b[0m \u001b[1;32mis\u001b[0m \u001b[1;32mnot\u001b[0m \u001b[1;32mNone\u001b[0m\u001b[1;33m:\u001b[0m\u001b[1;33m\u001b[0m\u001b[1;33m\u001b[0m\u001b[0m\n\u001b[1;32m-> 4150\u001b[1;33m                 \u001b[0mobj\u001b[0m \u001b[1;33m=\u001b[0m \u001b[0mobj\u001b[0m\u001b[1;33m.\u001b[0m\u001b[0m_drop_axis\u001b[0m\u001b[1;33m(\u001b[0m\u001b[0mlabels\u001b[0m\u001b[1;33m,\u001b[0m \u001b[0maxis\u001b[0m\u001b[1;33m,\u001b[0m \u001b[0mlevel\u001b[0m\u001b[1;33m=\u001b[0m\u001b[0mlevel\u001b[0m\u001b[1;33m,\u001b[0m \u001b[0merrors\u001b[0m\u001b[1;33m=\u001b[0m\u001b[0merrors\u001b[0m\u001b[1;33m)\u001b[0m\u001b[1;33m\u001b[0m\u001b[1;33m\u001b[0m\u001b[0m\n\u001b[0m\u001b[0;32m   4151\u001b[0m \u001b[1;33m\u001b[0m\u001b[0m\n\u001b[0;32m   4152\u001b[0m         \u001b[1;32mif\u001b[0m \u001b[0minplace\u001b[0m\u001b[1;33m:\u001b[0m\u001b[1;33m\u001b[0m\u001b[1;33m\u001b[0m\u001b[0m\n",
      "\u001b[1;32mC:\\ProgramData\\Anaconda3\\lib\\site-packages\\pandas\\core\\generic.py\u001b[0m in \u001b[0;36m_drop_axis\u001b[1;34m(self, labels, axis, level, errors)\u001b[0m\n\u001b[0;32m   4183\u001b[0m                 \u001b[0mnew_axis\u001b[0m \u001b[1;33m=\u001b[0m \u001b[0maxis\u001b[0m\u001b[1;33m.\u001b[0m\u001b[0mdrop\u001b[0m\u001b[1;33m(\u001b[0m\u001b[0mlabels\u001b[0m\u001b[1;33m,\u001b[0m \u001b[0mlevel\u001b[0m\u001b[1;33m=\u001b[0m\u001b[0mlevel\u001b[0m\u001b[1;33m,\u001b[0m \u001b[0merrors\u001b[0m\u001b[1;33m=\u001b[0m\u001b[0merrors\u001b[0m\u001b[1;33m)\u001b[0m\u001b[1;33m\u001b[0m\u001b[1;33m\u001b[0m\u001b[0m\n\u001b[0;32m   4184\u001b[0m             \u001b[1;32melse\u001b[0m\u001b[1;33m:\u001b[0m\u001b[1;33m\u001b[0m\u001b[1;33m\u001b[0m\u001b[0m\n\u001b[1;32m-> 4185\u001b[1;33m                 \u001b[0mnew_axis\u001b[0m \u001b[1;33m=\u001b[0m \u001b[0maxis\u001b[0m\u001b[1;33m.\u001b[0m\u001b[0mdrop\u001b[0m\u001b[1;33m(\u001b[0m\u001b[0mlabels\u001b[0m\u001b[1;33m,\u001b[0m \u001b[0merrors\u001b[0m\u001b[1;33m=\u001b[0m\u001b[0merrors\u001b[0m\u001b[1;33m)\u001b[0m\u001b[1;33m\u001b[0m\u001b[1;33m\u001b[0m\u001b[0m\n\u001b[0m\u001b[0;32m   4186\u001b[0m             \u001b[0mresult\u001b[0m \u001b[1;33m=\u001b[0m \u001b[0mself\u001b[0m\u001b[1;33m.\u001b[0m\u001b[0mreindex\u001b[0m\u001b[1;33m(\u001b[0m\u001b[1;33m**\u001b[0m\u001b[1;33m{\u001b[0m\u001b[0maxis_name\u001b[0m\u001b[1;33m:\u001b[0m \u001b[0mnew_axis\u001b[0m\u001b[1;33m}\u001b[0m\u001b[1;33m)\u001b[0m\u001b[1;33m\u001b[0m\u001b[1;33m\u001b[0m\u001b[0m\n\u001b[0;32m   4187\u001b[0m \u001b[1;33m\u001b[0m\u001b[0m\n",
      "\u001b[1;32mC:\\ProgramData\\Anaconda3\\lib\\site-packages\\pandas\\core\\indexes\\base.py\u001b[0m in \u001b[0;36mdrop\u001b[1;34m(self, labels, errors)\u001b[0m\n\u001b[0;32m   6015\u001b[0m         \u001b[1;32mif\u001b[0m \u001b[0mmask\u001b[0m\u001b[1;33m.\u001b[0m\u001b[0many\u001b[0m\u001b[1;33m(\u001b[0m\u001b[1;33m)\u001b[0m\u001b[1;33m:\u001b[0m\u001b[1;33m\u001b[0m\u001b[1;33m\u001b[0m\u001b[0m\n\u001b[0;32m   6016\u001b[0m             \u001b[1;32mif\u001b[0m \u001b[0merrors\u001b[0m \u001b[1;33m!=\u001b[0m \u001b[1;34m\"ignore\"\u001b[0m\u001b[1;33m:\u001b[0m\u001b[1;33m\u001b[0m\u001b[1;33m\u001b[0m\u001b[0m\n\u001b[1;32m-> 6017\u001b[1;33m                 \u001b[1;32mraise\u001b[0m \u001b[0mKeyError\u001b[0m\u001b[1;33m(\u001b[0m\u001b[1;34mf\"{labels[mask]} not found in axis\"\u001b[0m\u001b[1;33m)\u001b[0m\u001b[1;33m\u001b[0m\u001b[1;33m\u001b[0m\u001b[0m\n\u001b[0m\u001b[0;32m   6018\u001b[0m             \u001b[0mindexer\u001b[0m \u001b[1;33m=\u001b[0m \u001b[0mindexer\u001b[0m\u001b[1;33m[\u001b[0m\u001b[1;33m~\u001b[0m\u001b[0mmask\u001b[0m\u001b[1;33m]\u001b[0m\u001b[1;33m\u001b[0m\u001b[1;33m\u001b[0m\u001b[0m\n\u001b[0;32m   6019\u001b[0m         \u001b[1;32mreturn\u001b[0m \u001b[0mself\u001b[0m\u001b[1;33m.\u001b[0m\u001b[0mdelete\u001b[0m\u001b[1;33m(\u001b[0m\u001b[0mindexer\u001b[0m\u001b[1;33m)\u001b[0m\u001b[1;33m\u001b[0m\u001b[1;33m\u001b[0m\u001b[0m\n",
      "\u001b[1;31mKeyError\u001b[0m: \"['Unnamed: 0' 'Index' 'Address'] not found in axis\""
     ]
    }
   ],
   "source": [
    "#Dropeamos las columnas que son insignificativas y no aportan valor. \n",
    "columns = ['Unnamed: 0', 'Index', 'Address',' ERC20 avg time between contract tnx',\n",
    "' ERC20 avg time between rec 2 tnx',\n",
    "' ERC20 avg val sent contract',\n",
    "' ERC20 max val sent contract',\n",
    "' ERC20 min val sent contract',\n",
    "' ERC20 avg time between rec tnx',\n",
    "' ERC20 avg time between sent tnx',\n",
    "'min value sent to contract',\n",
    "'total ether sent contracts',\n",
    "'avg value sent to contract',\n",
    "'max val sent to contract',\n",
    "' ERC20 total Ether sent contract',\n",
    "' ERC20 uniq sent addr.1']\n",
    "\n",
    "df_copy = df\n",
    "df.drop(columns, axis =1 , inplace = True)"
   ]
  },
  {
   "cell_type": "markdown",
   "id": "fd54bf93",
   "metadata": {},
   "source": [
    "Como se puede observar las primeras 13 variables de esta lista tienen menos del 0.3% de valores distintos a cero o nulo, es decir menos de 30 datos en un dataset de 9841 registros. Consideramos que estas variables no deberían entrar en el modelo porque no aportan información al problema ya que más del 99,7% de los datos van a ser nulos o cero. \n",
    "\n",
    "Además observamos que las variables que tienen valores nulos son las de ERC20 que es un protocolo de ETH. Lo que parece indicarnos que esas cuentas no hicieron ninguna transacción por ese protocolo. Con esto pensamos agregar otra variables que indique si tiene información sobre las transacciones ERC20 o no. \n"
   ]
  },
  {
   "cell_type": "markdown",
   "id": "bcc755e7",
   "metadata": {},
   "source": [
    "#  Correlacion de la variable Target"
   ]
  },
  {
   "cell_type": "code",
   "execution_count": null,
   "id": "13ce9e6c",
   "metadata": {},
   "outputs": [],
   "source": [
    "# Correlacion para Fraudes\n",
    "df_fraud = df[df['FLAG']==1]\n",
    "corr = df_fraud.corr()\n",
    "mask = np.zeros_like(corr)\n",
    "mask[np.triu_indices_from(mask)]=True\n",
    "with sns.axes_style('white'):\n",
    "    fig, ax = plt.subplots(figsize=(18,20))\n",
    "    sns.heatmap(corr,  mask=mask, annot=False, cmap='YlGnBu',center=0, linewidths=0.8, square=True)"
   ]
  },
  {
   "cell_type": "code",
   "execution_count": null,
   "id": "a7cf8406",
   "metadata": {},
   "outputs": [],
   "source": [
    "# Correlacion para NO Fraudes\n",
    "df_not_fraud = df[df['FLAG']==0]\n",
    "corr = df_fraud.corr()\n",
    "mask = np.zeros_like(corr)\n",
    "mask[np.triu_indices_from(mask)]=True\n",
    "with sns.axes_style('white'):\n",
    "    fig, ax = plt.subplots(figsize=(18,20))\n",
    "    sns.heatmap(corr,  mask=mask, annot=False, cmap='YlGnBu',center=0, linewidths=0.8, square=True)"
   ]
  },
  {
   "cell_type": "markdown",
   "id": "77a31375",
   "metadata": {},
   "source": [
    "Podemos observar las distintas correlaciones que tienen las variables entre sí para un Fraude o una transacción sin Fraude. Tenemos una fuerte correlación en variables que representa el protocolo de ETH.\n",
    "\n"
   ]
  },
  {
   "cell_type": "markdown",
   "id": "bd03da13",
   "metadata": {},
   "source": [
    "## Limpieza variables categóricas\n"
   ]
  },
  {
   "cell_type": "code",
   "execution_count": null,
   "id": "33810efa",
   "metadata": {},
   "outputs": [],
   "source": [
    "#cambiar los valores 0 a nulos, porque un valor 0 no significa nada en las variables categóricas\n",
    "df[' ERC20_most_rec_token_type'].replace({'0':np.NaN},inplace = True)\n",
    "df[' ERC20 most sent token type'].replace({'0':np.NaN},inplace = True)"
   ]
  },
  {
   "cell_type": "code",
   "execution_count": null,
   "id": "891f5944",
   "metadata": {},
   "outputs": [],
   "source": [
    "#Promedio de Nan\n",
    "print(df[' ERC20 most sent token type'].isnull().sum()/len(df))\n",
    "print(df[' ERC20 most sent token type'].max)"
   ]
  },
  {
   "cell_type": "code",
   "execution_count": null,
   "id": "45ba3de3",
   "metadata": {},
   "outputs": [],
   "source": [
    "##Promedio de Nan\n",
    "print(df[' ERC20_most_rec_token_type'].isnull().sum()/len(df))\n",
    "print(df[' ERC20_most_rec_token_type'].max)"
   ]
  },
  {
   "cell_type": "markdown",
   "id": "c1049398",
   "metadata": {},
   "source": [
    "Para los siguientes variables categóricas reemplazamos el valor ‘0’ por Nan\n",
    "ERC20_most_rec_token_type\n",
    "ERC20 most sent token type\n",
    "\n",
    "Consideramos que tiene más sentido para una variable categórica que tenga un valor null a un valor numérico para representar la nada.\n"
   ]
  },
  {
   "cell_type": "markdown",
   "id": "8dcf9ac0",
   "metadata": {},
   "source": [
    "## Bar charts\n",
    "\n",
    "<p>En los Bar charts podemos observar que la mayoría de los valores tienen un mismo valor.\n",
    "    <p>\n",
    "        <p>\n",
    "            "
   ]
  },
  {
   "cell_type": "code",
   "execution_count": null,
   "id": "9d0aa2b8",
   "metadata": {},
   "outputs": [],
   "source": [
    "#Genero un grafico para columna , en la cual puedo observar la cantidad de sus distintos valores.\n",
    "df.hist(figsize=(20,24), bins=10)"
   ]
  },
  {
   "cell_type": "markdown",
   "id": "054e1d78",
   "metadata": {},
   "source": [
    "Como varias variables tienen una gran densidad de datos cerca de los valores a cero, estamos pensando en hacer dos tipos de modelos. uno que incluya esos valores extremos y otro sin esos valores extremos para ver cómo se comportan los modelos."
   ]
  },
  {
   "cell_type": "markdown",
   "id": "9fa92e6f",
   "metadata": {},
   "source": [
    "## Análisis de frecuencias Categóricas"
   ]
  },
  {
   "cell_type": "markdown",
   "id": "0ea75bbc",
   "metadata": {},
   "source": [
    "<p>Variable : ERC20 most sent token type\n",
    "<p>\n",
    "<p>\n"
   ]
  },
  {
   "cell_type": "code",
   "execution_count": null,
   "id": "c8c7ff91",
   "metadata": {
    "scrolled": true
   },
   "outputs": [],
   "source": [
    "# ERC20 most sent token type\n",
    "frec = df[' ERC20 most sent token type'].value_counts()\n",
    "frec_df = pd.DataFrame(frec)\n",
    "frec_df.rename(columns={' ERC20 most sent token type':'Frec_abs'},inplace=True)\n",
    "#Obtenemos los valores de las Frecuencias Absolutas\n",
    "Frec_abs_val = frec_df[\"Frec_abs\"].values\n",
    "\n",
    "#Creamos una lista vacia en donde vamos a guardar las frecuencias absolutas acumuladas\n",
    "acum = []\n",
    "\n",
    "#Iniciamos una variable en la que guardaremos los valores anteriores\n",
    "valor_acum = 0\n",
    "\n",
    "#Recorremos la lista  de las frecuencias absolutas para irlas sumando\n",
    "for i in Frec_abs_val:\n",
    "    valor_acum = valor_acum + i\n",
    "    acum.append(valor_acum)\n",
    "    \n",
    "frec_df[\"frec_abs_acum\"] = acum\n",
    "\n",
    "#Calculamos la Frecuencia Relativa en %\n",
    "frec_df[\"frec_rel_%\"] = 100 * frec_df[\"Frec_abs\"]/len(df[' ERC20 most sent token type'])\n",
    "\n",
    "#Obtenemos los valores de las Frecuencias Relativas\n",
    "Frec_rel_val = frec_df[\"frec_rel_%\"].values\n",
    "\n",
    "#Creamos una lista vacia en donde vamos a guardar las frecuencias relativas acumuladas\n",
    "acum = []\n",
    "\n",
    "#Iniciamos una variable  en la que guardaremos los valores anteriores\n",
    "valor_acum = 0\n",
    "\n",
    "#Recorremos la lista  de las frecuencias relativas para irlas sumando\n",
    "for i in Frec_rel_val:\n",
    "    valor_acum = valor_acum + i\n",
    "    acum.append(valor_acum)\n",
    "    \n",
    "frec_df[\"frec_rel_%_acum\"] = acum\n",
    "frec_df"
   ]
  },
  {
   "cell_type": "markdown",
   "id": "563d9c1d",
   "metadata": {},
   "source": [
    "<p>Variable : ERC20_most_rec_token_type\n",
    "<p>\n",
    "<p>"
   ]
  },
  {
   "cell_type": "code",
   "execution_count": null,
   "id": "ad0a05f3",
   "metadata": {},
   "outputs": [],
   "source": [
    "#' ERC20 most sent token type'\n",
    "frec = df[' ERC20_most_rec_token_type'].value_counts()\n",
    "frec_df = pd.DataFrame(frec)\n",
    "frec_df.rename(columns={' ERC20_most_rec_token_type':'Frec_abs'},inplace=True)\n",
    "#Obtenemos los valores de las Frecuencias Absolutas\n",
    "Frec_abs_val = frec_df[\"Frec_abs\"].values\n",
    "\n",
    "#Creamos una lista vacia en donde vamos a guardar las frecuencias absolutas acumuladas\n",
    "acum = []\n",
    "\n",
    "#Iniciamos una variable en la que guardaremos los valores anteriores\n",
    "valor_acum = 0\n",
    "\n",
    "#Recorremos la lista  de las frecuencias absolutas para irlas sumando\n",
    "for i in Frec_abs_val:\n",
    "    valor_acum = valor_acum + i\n",
    "    acum.append(valor_acum)\n",
    "    \n",
    "frec_df[\"frec_abs_acum\"] = acum\n",
    "\n",
    "#Calculamos la Frecuencia Relativa en %\n",
    "frec_df[\"frec_rel_%\"] = 100 * frec_df[\"Frec_abs\"]/len(df[' ERC20_most_rec_token_type'])\n",
    "\n",
    "#Obtenemos los valores de las Frecuencias Relativas\n",
    "Frec_rel_val = frec_df[\"frec_rel_%\"].values\n",
    "\n",
    "#Creamos una lista vacia en donde vamos a guardar las frecuencias relativas acumuladas\n",
    "acum = []\n",
    "\n",
    "#Iniciamos una variable  en la que guardaremos los valores anteriores\n",
    "valor_acum = 0\n",
    "\n",
    "#Recorremos la lista  de las frecuencias relativas para irlas sumando\n",
    "for i in Frec_rel_val:\n",
    "    valor_acum = valor_acum + i\n",
    "    acum.append(valor_acum)\n",
    "    \n",
    "frec_df[\"frec_rel_%_acum\"] = acum\n",
    "frec_df"
   ]
  },
  {
   "cell_type": "markdown",
   "id": "4cc97d9f",
   "metadata": {},
   "source": [
    "<p>Para las 2 variables categóricas podemos observar que la frecuencia es en promedio baja.\n",
    "    <p>\n",
    "        <p>"
   ]
  },
  {
   "cell_type": "code",
   "execution_count": null,
   "id": "e561ed00",
   "metadata": {},
   "outputs": [],
   "source": [
    "df.columns"
   ]
  },
  {
   "cell_type": "code",
   "execution_count": null,
   "id": "a8864db3",
   "metadata": {
    "scrolled": true
   },
   "outputs": [],
   "source": [
    "# Analisis de la distribucion usando boxplots\n",
    "columns = ['FLAG', 'Avg min between sent tnx', \n",
    "           'Avg min between sent tnx','Avg min between received tnx',  \n",
    "           'Time Diff between first and last (Mins)', 'Sent tnx', \n",
    "           'Received Tnx', 'Number of Created Contracts', \n",
    "           'Unique Received From Addresses', 'Unique Sent To Addresses', \n",
    "           'min value received', 'max value received ', 'avg val received',\n",
    "           'min val sent', 'max val sent', 'avg val sent',\n",
    "            'total Ether sent', \n",
    "           'total ether balance', ' ERC20 total Ether received', \n",
    "           ' ERC20 total ether sent', ' ERC20 uniq sent addr', ' ERC20 uniq rec token name']\n",
    "\n",
    "       \n",
    "\n",
    "fig, axes = plt.subplots(8, 3, figsize=(14, 14), constrained_layout =True)\n",
    "plt.subplots_adjust(wspace = 0.7, hspace=0.8)\n",
    "plt.suptitle(\"Distribution of features\",y=0.95, size=16, weight='bold')\n",
    "\n",
    "ax = sns.boxplot(ax = axes[0,0], data=df_copy, x=columns[1])\n",
    "ax.set_title(f'Distribution of {columns[1]}')\n",
    "\n",
    "ax1 = sns.boxplot(ax = axes[0,1], data=df_copy, x=columns[2])\n",
    "ax1.set_title(f'Distribution of {columns[2]}')\n",
    "\n",
    "ax2 = sns.boxplot(ax = axes[0,2], data=df_copy, x=columns[3])\n",
    "ax2.set_title(f'Distribution of {columns[3]}')\n",
    "\n",
    "ax3 = sns.boxplot(ax = axes[1,0], data=df_copy, x=columns[4])\n",
    "ax3.set_title(f'Distribution of {columns[4]}')\n",
    "\n",
    "ax4 = sns.boxplot(ax = axes[1,1], data=df_copy, x=columns[5])\n",
    "ax4.set_title(f'Distribution of {columns[5]}')\n",
    "\n",
    "ax5 = sns.boxplot(ax = axes[1,2], data=df_copy, x=columns[6])\n",
    "ax5.set_title(f'Distribution of {columns[6]}')\n",
    "\n",
    "ax6 = sns.boxplot(ax = axes[2,0], data=df_copy, x=columns[7])\n",
    "ax6.set_title(f'Distribution of {columns[7]}')\n",
    "\n",
    "ax7 = sns.boxplot(ax = axes[2,1], data=df_copy, x=columns[8])\n",
    "ax7.set_title(f'Distribution of {columns[8]}')\n",
    "\n",
    "ax8 = sns.boxplot(ax = axes[2,2], data=df_copy, x=columns[9])\n",
    "ax8.set_title(f'Distribution of {columns[9]}')\n",
    "\n",
    "ax9 = sns.boxplot(ax = axes[3,0], data=df_copy, x=columns[10])\n",
    "ax9.set_title(f'Distribution of {columns[10]}')\n",
    " \n",
    "ax10 = sns.boxplot(ax = axes[3,1], data=df_copy, x=columns[11])\n",
    "ax10.set_title(f'Distribution of {columns[11]}')\n",
    "\n",
    "ax11 = sns.boxplot(ax = axes[3,2], data=df_copy, x=columns[12])\n",
    "ax11.set_title(f'Distribution of {columns[12]}')\n",
    " \n",
    "ax12 = sns.boxplot(ax = axes[4,0], data=df_copy, x=columns[13])\n",
    "ax12.set_title(f'Distribution of {columns[13]}')\n",
    " \n",
    "ax13 = sns.boxplot(ax = axes[4,1], data=df_copy, x=columns[14])\n",
    "ax13.set_title(f'Distribution of {columns[14]}')\n",
    " \n",
    "ax14 = sns.boxplot(ax = axes[4,2], data=df_copy, x=columns[15])\n",
    "ax14.set_title(f'Distribution of {columns[15]}')\n",
    " \n",
    "ax15 = sns.boxplot(ax = axes[5,0], data=df_copy, x=columns[16])\n",
    "ax15.set_title(f'Distribution of {columns[16]}')\n",
    "\n",
    "ax15 = sns.boxplot(ax = axes[5,1], data=df_copy, x=columns[17])\n",
    "ax15.set_title(f'Distribution of {columns[17]}')\n",
    "\n",
    "ax15 = sns.boxplot(ax = axes[5,2], data=df_copy, x=columns[18])\n",
    "ax15.set_title(f'Distribution of {columns[18]}')\n",
    "\n",
    "ax15 = sns.boxplot(ax = axes[6,0], data=df_copy, x=columns[19])\n",
    "ax15.set_title(f'Distribution of {columns[19]}')\n",
    "\n",
    "ax15 = sns.boxplot(ax = axes[6,1], data=df_copy, x=columns[20])\n",
    "ax15.set_title(f'Distribution of {columns[20]}')\n",
    "\n",
    "ax15 = sns.boxplot(ax = axes[6,2], data=df_copy, x=columns[21])\n",
    "ax15.set_title(f'Distribution of {columns[21]}')\n",
    "\n",
    "\n",
    " \n",
    "\n",
    "plt.show()"
   ]
  },
  {
   "cell_type": "markdown",
   "id": "7bfb71cc",
   "metadata": {},
   "source": [
    "La gran mayoría de la dispersión tiene más al valor cero. Es una particularidad que se da en la mayoría de las variables"
   ]
  },
  {
   "cell_type": "markdown",
   "id": "06288cba",
   "metadata": {},
   "source": [
    "## Análisis_Bivariado\n"
   ]
  },
  {
   "cell_type": "code",
   "execution_count": null,
   "id": "59d93863",
   "metadata": {},
   "outputs": [],
   "source": [
    "# FLAG VS ERC20 min val rec\n",
    "sns.barplot(x='FLAG' , y = \" ERC20 min val rec\", data=df)"
   ]
  },
  {
   "cell_type": "code",
   "execution_count": null,
   "id": "7f772b5d",
   "metadata": {},
   "outputs": [],
   "source": [
    "# Flag vs ERC20 max val rec\n",
    "sns.barplot(x='FLAG' , y = \" ERC20 max val rec\", data=df)"
   ]
  },
  {
   "cell_type": "code",
   "execution_count": null,
   "id": "10d40927",
   "metadata": {},
   "outputs": [],
   "source": [
    "#Flag vs ERC20 avg val rec\n",
    "sns.barplot(x='FLAG' , y = \" ERC20 avg val rec\", data=df)"
   ]
  },
  {
   "cell_type": "code",
   "execution_count": null,
   "id": "cd19aeff",
   "metadata": {},
   "outputs": [],
   "source": [
    "# Flag vs ER20 MIN VAL SENT\n",
    "sns.barplot(x='FLAG' , y = \" ERC20 min val sent\", data=df)"
   ]
  },
  {
   "cell_type": "code",
   "execution_count": null,
   "id": "a0755e94",
   "metadata": {},
   "outputs": [],
   "source": [
    "# Flag vs ERC20 max val sent\n",
    "sns.barplot(x='FLAG' , y = \" ERC20 max val sent\", data=df)"
   ]
  },
  {
   "cell_type": "code",
   "execution_count": null,
   "id": "300fe6d9",
   "metadata": {
    "scrolled": true
   },
   "outputs": [],
   "source": [
    "#FLAG vs ERC20 avg val sent\n",
    "sns.barplot(x='FLAG' , y = \" ERC20 avg val sent\", data=df)"
   ]
  },
  {
   "cell_type": "code",
   "execution_count": null,
   "id": "7ef5f88a",
   "metadata": {
    "scrolled": true
   },
   "outputs": [],
   "source": [
    "sns.boxplot(x='FLAG', y='Avg min between sent tnx', data=df)\n",
    "\n",
    "plt.show()"
   ]
  },
  {
   "cell_type": "code",
   "execution_count": null,
   "id": "ff19e7d1",
   "metadata": {
    "scrolled": false
   },
   "outputs": [],
   "source": [
    "sns.boxplot(x='FLAG', y='Avg min between received tnx', data=df)\n",
    "\n",
    "plt.show()"
   ]
  },
  {
   "cell_type": "code",
   "execution_count": null,
   "id": "843cf2eb",
   "metadata": {
    "scrolled": false
   },
   "outputs": [],
   "source": [
    "sns.boxplot(x='FLAG', y='Time Diff between first and last (Mins)', data=df)\n",
    "\n",
    "plt.show()"
   ]
  },
  {
   "cell_type": "code",
   "execution_count": null,
   "id": "fcd438c4",
   "metadata": {
    "scrolled": false
   },
   "outputs": [],
   "source": [
    "sns.boxplot(x='FLAG', y='Sent tnx', data=df)\n",
    "\n",
    "plt.show()"
   ]
  },
  {
   "cell_type": "code",
   "execution_count": null,
   "id": "d857a565",
   "metadata": {
    "scrolled": true
   },
   "outputs": [],
   "source": [
    "sns.boxplot(x='FLAG', y='Received Tnx', data=df)\n",
    "\n",
    "plt.show()"
   ]
  },
  {
   "cell_type": "code",
   "execution_count": null,
   "id": "8223a2b6",
   "metadata": {
    "scrolled": false
   },
   "outputs": [],
   "source": [
    "sns.boxplot(x='FLAG', y='Number of Created Contracts', data=df)\n",
    "\n",
    "plt.show()"
   ]
  },
  {
   "cell_type": "code",
   "execution_count": null,
   "id": "6a2b51d8",
   "metadata": {
    "scrolled": false
   },
   "outputs": [],
   "source": [
    "sns.boxplot(x='FLAG', y='Unique Received From Addresses', data=df)\n",
    "\n",
    "plt.show() "
   ]
  },
  {
   "cell_type": "code",
   "execution_count": null,
   "id": "c2047bf8",
   "metadata": {
    "scrolled": true
   },
   "outputs": [],
   "source": [
    "sns.boxplot(x='FLAG', y='Unique Sent To Addresses', data=df)\n",
    "\n",
    "plt.show() "
   ]
  },
  {
   "cell_type": "code",
   "execution_count": null,
   "id": "94fba760",
   "metadata": {
    "scrolled": false
   },
   "outputs": [],
   "source": [
    "sns.boxplot(x='FLAG', y='min value received', data=df)\n",
    "\n",
    "plt.show() "
   ]
  },
  {
   "cell_type": "code",
   "execution_count": null,
   "id": "aa1202ef",
   "metadata": {
    "scrolled": false
   },
   "outputs": [],
   "source": [
    "sns.boxplot(x='FLAG', y='max value received ', data=df)\n",
    "\n",
    "plt.show() "
   ]
  },
  {
   "cell_type": "code",
   "execution_count": null,
   "id": "f3f1b297",
   "metadata": {
    "scrolled": false
   },
   "outputs": [],
   "source": [
    "sns.boxplot(x='FLAG', y='avg val received', data=df)\n",
    "\n",
    "plt.show() "
   ]
  },
  {
   "cell_type": "code",
   "execution_count": null,
   "id": "2495d9d9",
   "metadata": {
    "scrolled": true
   },
   "outputs": [],
   "source": [
    "sns.boxplot(x='FLAG', y='min val sent', data=df)\n",
    "\n",
    "plt.show() "
   ]
  },
  {
   "cell_type": "code",
   "execution_count": null,
   "id": "94b36d3f",
   "metadata": {
    "scrolled": true
   },
   "outputs": [],
   "source": [
    "sns.catplot(x='FLAG', y='min val sent', data=df)"
   ]
  },
  {
   "cell_type": "code",
   "execution_count": null,
   "id": "0035efc7",
   "metadata": {},
   "outputs": [],
   "source": [
    "sns.catplot(x='FLAG', y='Avg min between sent tnx', data=df)\n",
    "\n",
    "plt.show()\n",
    "\n",
    "sns.catplot(x='FLAG', y='Avg min between received tnx', data=df)\n",
    "\n",
    "plt.show()\n",
    "\n",
    "sns.catplot(x='FLAG', y='Time Diff between first and last (Mins)', data=df)\n",
    "\n",
    "plt.show()\n",
    "\n",
    "sns.catplot(x='FLAG', y='Sent tnx', data=df)\n",
    "\n",
    "plt.show()\n",
    "\n",
    "sns.catplot(x='FLAG', y='Received Tnx', data=df)\n",
    "\n",
    "plt.show()\n",
    "\n",
    "sns.catplot(x='FLAG', y='Number of Created Contracts', data=df)\n",
    "\n",
    "plt.show()\n",
    "\n"
   ]
  },
  {
   "cell_type": "code",
   "execution_count": null,
   "id": "a4d92566",
   "metadata": {
    "scrolled": false
   },
   "outputs": [],
   "source": [
    "sns.catplot(x='FLAG', y='Unique Received From Addresses', data=df)\n",
    "plt.show() \n",
    "\n",
    "sns.catplot(x='FLAG', y='Unique Sent To Addresses', data=df)\n",
    "plt.show() \n",
    "\n",
    "sns.catplot(x='FLAG', y='min value received', data=df)\n",
    "plt.show() \n",
    "\n",
    "sns.catplot(x='FLAG', y='max value received ', data=df)\n",
    "plt.show() \n",
    "\n",
    "sns.catplot(x='FLAG', y='avg val received', data=df)\n",
    "plt.show() \n",
    "\n",
    "sns.catplot(x='FLAG', y='min val sent', data=df)\n",
    "plt.show() "
   ]
  },
  {
   "cell_type": "code",
   "execution_count": null,
   "id": "5f5da7e7",
   "metadata": {},
   "outputs": [],
   "source": [
    "sns.boxplot(x='FLAG', y='Avg min between sent tnx', data=df)\n",
    "\n",
    "plt.show()\n",
    "\n",
    "sns.boxplot(x='FLAG', y='Avg min between received tnx', data=df)\n",
    "\n",
    "plt.show()\n",
    "\n",
    "sns.boxplot(x='FLAG', y='Time Diff between first and last (Mins)', data=df)\n",
    "\n",
    "plt.show()\n",
    "\n",
    "sns.boxplot(x='FLAG', y='Sent tnx', data=df)\n",
    "\n",
    "plt.show()\n",
    "\n",
    "sns.boxplot(x='FLAG', y='Received Tnx', data=df)\n",
    "\n",
    "plt.show()\n",
    "\n",
    "sns.boxplot(x='FLAG', y='Number of Created Contracts', data=df)\n",
    "\n",
    "plt.show()\n",
    "\n",
    "sns.boxplot(x='FLAG', y='Unique Received From Addresses', data=df)\n",
    "\n",
    "plt.show() \n",
    "\n",
    "sns.boxplot(x='FLAG', y='Unique Sent To Addresses', data=df)\n",
    "\n",
    "plt.show() \n",
    "\n",
    "sns.boxplot(x='FLAG', y='min value received', data=df)\n",
    "\n",
    "plt.show() \n",
    "\n",
    "sns.boxplot(x='FLAG', y='max value received ', data=df)\n",
    "\n",
    "plt.show() \n",
    "\n",
    "sns.boxplot(x='FLAG', y='avg val received', data=df)\n",
    "\n",
    "plt.show() \n",
    "\n",
    "sns.boxplot(x='FLAG', y='min val sent', data=df)\n",
    "\n",
    "plt.show() \n",
    "\n",
    "sns.catplot(x='FLAG', y='min val sent', data=df)\n",
    "\n",
    "sns.catplot(x='FLAG', y='Avg min between sent tnx', data=df)\n",
    "\n",
    "plt.show()\n",
    "\n",
    "sns.catplot(x='FLAG', y='Avg min between received tnx', data=df)\n",
    "\n",
    "plt.show()\n",
    "\n",
    "sns.catplot(x='FLAG', y='Time Diff between first and last (Mins)', data=df)\n",
    "\n",
    "plt.show()\n",
    "\n",
    "sns.catplot(x='FLAG', y='Sent tnx', data=df)\n",
    "\n",
    "plt.show()\n",
    "\n",
    "sns.catplot(x='FLAG', y='Received Tnx', data=df)\n",
    "\n",
    "plt.show()\n",
    "\n",
    "sns.catplot(x='FLAG', y='Number of Created Contracts', data=df)\n",
    "\n",
    "plt.show()\n",
    "\n",
    "\n",
    "\n",
    "sns.catplot(x='FLAG', y='Unique Received From Addresses', data=df)\n",
    "plt.show() \n",
    "\n",
    "sns.catplot(x='FLAG', y='Unique Sent To Addresses', data=df)\n",
    "plt.show() \n",
    "\n",
    "sns.catplot(x='FLAG', y='min value received', data=df)\n",
    "plt.show() \n",
    "\n",
    "sns.catplot(x='FLAG', y='max value received ', data=df)\n",
    "plt.show() \n",
    "\n",
    "sns.catplot(x='FLAG', y='avg val received', data=df)\n",
    "plt.show() \n",
    "\n",
    "sns.catplot(x='FLAG', y='min val sent', data=df)\n",
    "plt.show() "
   ]
  },
  {
   "cell_type": "markdown",
   "id": "1786fd0a",
   "metadata": {},
   "source": [
    "<p>En la mayoría de las variables tenemos pares. Es decir , un valor máximo o mínimo. Podemos observar este patrón en la mayoría,para los valores máximos tenemos muy pocos fraudes. En cambio , para los valores mínimos tenemos muchas más Fraudes.\n",
    "<p>Con esto podemos llegar a concluir que la mayoría de los fraudes representan transacciones de menor costo.\n"
   ]
  },
  {
   "cell_type": "markdown",
   "id": "210113b2",
   "metadata": {},
   "source": []
  },
  {
   "cell_type": "markdown",
   "id": "784ad9ce",
   "metadata": {},
   "source": [
    "## Análisis_Multivariado"
   ]
  },
  {
   "cell_type": "code",
   "execution_count": null,
   "id": "61872c99",
   "metadata": {
    "scrolled": true
   },
   "outputs": [],
   "source": [
    "plt.subplots(figsize = (8, 6))\n",
    "sns.set(style = 'darkgrid')\n",
    "sns.scatterplot(data = df,x = 'Unique Received From Addresses', y= 'Received Tnx',hue = 'FLAG' )\n",
    "plt.show()\n",
    "\n",
    "\n",
    "\n"
   ]
  },
  {
   "cell_type": "code",
   "execution_count": null,
   "id": "401987d6",
   "metadata": {},
   "outputs": [],
   "source": [
    "plt.subplots(figsize = (8, 6))\n",
    "sns.set(style = 'whitegrid')\n",
    "sns.scatterplot(data = df,x = 'Unique Sent To Addresses', y= 'Sent tnx',hue = 'FLAG' )\n",
    "plt.show()\n"
   ]
  },
  {
   "cell_type": "code",
   "execution_count": null,
   "id": "aeefc8bd",
   "metadata": {},
   "outputs": [],
   "source": [
    "plt.subplots(figsize = (8, 6))\n",
    "sns.scatterplot(data = df,x = ' ERC20 uniq sent addr', y= ' Total ERC20 tnxs',hue = 'FLAG' )\n",
    "plt.show()\n",
    "\n"
   ]
  },
  {
   "cell_type": "code",
   "execution_count": null,
   "id": "b0b441e9",
   "metadata": {},
   "outputs": [],
   "source": [
    "plt.subplots(figsize = (8, 6))\n",
    "sns.scatterplot(data = df,x = 'Unique Received From Addresses', y= 'Received Tnx',hue = 'FLAG' )\n",
    "plt.show()"
   ]
  },
  {
   "cell_type": "code",
   "execution_count": null,
   "id": "789f993b",
   "metadata": {},
   "outputs": [],
   "source": [
    "plt.subplots(figsize = (8, 6))\n",
    "sns.scatterplot(data = df,x = 'Sent tnx', y= 'Unique Sent To Addresses',hue = 'FLAG' )\n",
    "plt.show()\n",
    "\n"
   ]
  },
  {
   "cell_type": "code",
   "execution_count": null,
   "id": "37c96279",
   "metadata": {},
   "outputs": [],
   "source": [
    "plt.subplots(figsize = (8, 6))\n",
    "sns.scatterplot(data = df,x = ' ERC20 uniq rec addr', y= ' Total ERC20 tnxs',hue = 'FLAG' )\n",
    "plt.show()\n",
    "\n",
    "\n"
   ]
  },
  {
   "cell_type": "code",
   "execution_count": null,
   "id": "423c8688",
   "metadata": {},
   "outputs": [],
   "source": [
    "plt.subplots(figsize = (8, 6))\n",
    "sns.scatterplot(data = df,x = 'total transactions (including tnx to create contract', y= 'Received Tnx',hue = 'FLAG' )\n",
    "plt.show()\n",
    "\n",
    "\n"
   ]
  },
  {
   "cell_type": "code",
   "execution_count": null,
   "id": "4a0bc203",
   "metadata": {},
   "outputs": [],
   "source": [
    "#Analizo la variable target vs los envios de trx y las recividas\n",
    "sns.FacetGrid(df,hue = 'FLAG' , height = 5 ).map(plt.scatter,'Sent tnx','Received Tnx').add_legend();\n"
   ]
  },
  {
   "cell_type": "code",
   "execution_count": null,
   "id": "5148ab1a",
   "metadata": {},
   "outputs": [],
   "source": [
    "#Analizo la variable targer vs el promedio minimo de enviados y recibidos\n",
    "sns.FacetGrid(df,hue = 'FLAG' , height = 5 ).map(plt.scatter,'Avg min between sent tnx','Avg min between received tnx').add_legend();"
   ]
  },
  {
   "cell_type": "code",
   "execution_count": null,
   "id": "92a1acc4",
   "metadata": {},
   "outputs": [],
   "source": [
    "#Analizo la variable target vs ERC20 min val rec y ERC20 max val rec\n",
    "sns.FacetGrid(df,hue = 'FLAG' , height = 5 ).map(plt.scatter,' ERC20 min val rec',' ERC20 max val rec').add_legend();"
   ]
  },
  {
   "cell_type": "code",
   "execution_count": null,
   "id": "9279e115",
   "metadata": {},
   "outputs": [],
   "source": [
    "#Analizo la variable target vs ERC20 min val sent y ERC20 max val sent\n",
    "sns.FacetGrid(df,hue = 'FLAG' , height = 5 ).map(plt.scatter, ' ERC20 min val sent',' ERC20 max val sent').add_legend();\n"
   ]
  },
  {
   "cell_type": "code",
   "execution_count": null,
   "id": "37b4dff2",
   "metadata": {},
   "outputs": [],
   "source": [
    "#Analizo la variable target vs ERC20 avg val sent y ERC20 avg val rec\n",
    "sns.FacetGrid(df,hue = 'FLAG' , height = 5 ).map(plt.scatter, ' ERC20 avg val sent',' ERC20 avg val rec').add_legend();\n"
   ]
  },
  {
   "cell_type": "code",
   "execution_count": null,
   "id": "78ae187c",
   "metadata": {},
   "outputs": [],
   "source": [
    "#Analizo la variable target vs ERC20 max val sent y ERC20 max val rec\n",
    "sns.FacetGrid(df,hue = 'FLAG' , height = 5 ).map(plt.scatter, ' ERC20 max val sent',' ERC20 max val rec').add_legend();"
   ]
  },
  {
   "cell_type": "code",
   "execution_count": null,
   "id": "de45798f",
   "metadata": {
    "scrolled": true
   },
   "outputs": [],
   "source": [
    "#Analizo la variable target vs ERC20 min val sent y ERC20 min val rec\n",
    "sns.FacetGrid(df,hue = 'FLAG' , height = 5 ).map(plt.scatter, ' ERC20 min val sent',' ERC20 min val sent').add_legend();"
   ]
  },
  {
   "cell_type": "code",
   "execution_count": null,
   "id": "7bd6d27b",
   "metadata": {
    "scrolled": false
   },
   "outputs": [],
   "source": [
    "#Comienzo a Analizar  las sigueintes variables\n",
    "#'Avg min between sent tnx',\n",
    "#'Avg min between received tnx', \n",
    "\n",
    "# 'Time Diff between first and last (Mins)', \n",
    "\n",
    "#'Sent tnx', 'Received Tnx',        \n",
    "#'Number of Created Contracts', \n",
    "#'Unique Received From Addresses',\n",
    "#'Unique Sent To Addresses', \n",
    "#'min value received', \n",
    "#'max value received ',  \n",
    "#'avg val received', \n",
    "#'min val sent', \n",
    "#'max val sent', \n",
    "#'avg val sent',        \n",
    "\n",
    "\n",
    "plt.subplots(figsize = (8, 6))\n",
    "sns.set(style = 'darkgrid')\n",
    "sns.scatterplot(data = df,x = 'Avg min between sent tnx', y= 'Avg min between received tnx',hue = 'FLAG' )\n",
    "plt.show()\n",
    "\n",
    "plt.subplots(figsize = (8, 6))\n",
    "sns.set(style = 'whitegrid')\n",
    "sns.scatterplot(data = df,x = 'Sent tnx', y= 'Received Tnx',hue = 'FLAG' )\n",
    "plt.show()\n",
    "\n",
    "plt.subplots(figsize = (8, 6))\n",
    "sns.scatterplot(data = df,x = 'Number of Created Contracts', y= 'Time Diff between first and last (Mins)',hue = 'FLAG' )\n",
    "plt.show()\n",
    "\n",
    "\n",
    "plt.subplots(figsize = (8, 6))\n",
    "sns.scatterplot(data = df,x = 'Unique Received From Addresses', y= 'Unique Sent To Addresses',hue = 'FLAG' )\n",
    "plt.show()\n",
    "\n",
    "plt.subplots(figsize = (8, 6))\n",
    "sns.scatterplot(data = df,x = 'avg val received', y= 'min val sent',hue = 'FLAG' )\n",
    "plt.show()\n",
    "\n",
    "plt.subplots(figsize = (8, 6))\n",
    "sns.scatterplot(data = df,x = 'avg val received', y= 'max val sent',hue = 'FLAG' )\n",
    "plt.show()\n",
    "\n",
    "\n",
    "#Analizo la variable target vs los envios de trx y las recividas\n",
    "sns.FacetGrid(df,hue = 'FLAG' , height = 5 ).map(plt.scatter,'Sent tnx','Received Tnx').add_legend();\n",
    "\n",
    "\n",
    "#Analizo la variable targer vs el promedio minimo de enviados y recibidos\n",
    "sns.FacetGrid(df,hue = 'FLAG' , height = 5 ).map(plt.scatter,'Avg min between sent tnx','Avg min between received tnx').add_legend();\n",
    "\n",
    "#Analizo la variable target vs ERC20 min val rec y ERC20 max val rec\n",
    "sns.FacetGrid(df,hue = 'FLAG' , height = 5 ).map(plt.scatter,' ERC20 min val rec',' ERC20 max val rec').add_legend();\n",
    "\n",
    "#Analizo la variable target vs ERC20 min val sent y ERC20 max val sent\n",
    "sns.FacetGrid(df,hue = 'FLAG' , height = 5 ).map(plt.scatter, ' ERC20 min val sent',' ERC20 max val sent').add_legend();\n",
    "\n",
    "\n",
    "#Analizo la variable target vs ERC20 avg val sent y ERC20 avg val rec\n",
    "sns.FacetGrid(df,hue = 'FLAG' , height = 5 ).map(plt.scatter, ' ERC20 avg val sent',' ERC20 avg val rec').add_legend();\n",
    "\n",
    "\n",
    "#Analizo la variable target vs ERC20 max val sent y ERC20 max val rec\n",
    "sns.FacetGrid(df,hue = 'FLAG' , height = 5 ).map(plt.scatter, ' ERC20 max val sent',' ERC20 max val rec').add_legend();\n",
    "\n",
    "#Analizo la variable target vs ERC20 min val sent y ERC20 min val rec\n",
    "sns.FacetGrid(df,hue = 'FLAG' , height = 5 ).map(plt.scatter, ' ERC20 min val sent',' ERC20 min val sent').add_legend();"
   ]
  },
  {
   "cell_type": "markdown",
   "id": "1018704a",
   "metadata": {},
   "source": [
    "Con todo el análisis multivariado que realizamos, podemos concluir que los fraudes se van en la mayoría de los valores mínimos , es decir, que más tienden a cero.\n",
    "Podemos marcar más esta tendencia generan indicadores de corte\n"
   ]
  },
  {
   "cell_type": "code",
   "execution_count": null,
   "id": "31dc3ece",
   "metadata": {},
   "outputs": [],
   "source": [
    "# Split train and target features\n",
    "df.fillna(0, inplace = True)\n",
    "y = df['FLAG']\n",
    "X = df.drop('FLAG', axis=1)\n",
    "\n",
    "# Standardize the train and test sample\n",
    "scaler = StandardScaler()\n",
    "X_std = scaler.fit_transform(X)"
   ]
  },
  {
   "cell_type": "code",
   "execution_count": null,
   "id": "e818df2f",
   "metadata": {},
   "outputs": [],
   "source": [
    "from sklearn import svm, datasets\n",
    "from sklearn.model_selection import GridSearchCV\n",
    "import sklearn.linear_model as lm\n",
    "# Perform GridSearchCV to tune best-fit LR model\n",
    "param = {'C': [10**-2,10**-1,10**0,10**1,10**2]}\n",
    "\n",
    "#Separo data en sets de training y test 70/30\n",
    "X_train_LG, X_test_LG, y_train_LG, y_test_LG = train_test_split(X, y, test_size = 0.30, random_state = 43) #---> ver si es correcto el random_state\n",
    "\n",
    "\n",
    "lr_model = LogisticRegression(penalty='l1', solver='liblinear')\n",
    "gs_model = GridSearchCV(estimator=lr_model, param_grid=param)\n",
    "gs_model.fit(X_train_LG, y_train_LG)\n",
    "\n",
    "\n",
    "# Train a LR model with best parameters\n",
    "model = LogisticRegression(**gs_model.best_params_, penalty='l1', solver='liblinear')\n",
    "model.fit(X_train_LG, y_train_LG)\n"
   ]
  },
  {
   "cell_type": "code",
   "execution_count": null,
   "id": "187e0a86",
   "metadata": {},
   "outputs": [],
   "source": [
    "coef = model.coef_[0]\n",
    "coef\n",
    "print(list(pd.Series(X_train_LG.columns)[list(coef=0)]))\n",
    "#imp_features = pd.Series(X_std.columns)c\n",
    "#X_train = X_train[imp_features]\n",
    "#X_test = X_test[imp_features]"
   ]
  },
  {
   "cell_type": "code",
   "execution_count": null,
   "id": "1262d7d6",
   "metadata": {},
   "outputs": [],
   "source": [
    "X_train_LG.columns"
   ]
  },
  {
   "cell_type": "markdown",
   "id": "69382a30",
   "metadata": {},
   "source": [
    "## Indicadores\n",
    "\n",
    "<p>En base al análisis multivariado se generaron indicadores de corte \n",
    "\n",
    "<ul>    \n",
    "<li>FLAG_RECEIVED_VS_RECEIVED_ADRESS : Indicador de corte para las variables : Received Tnx , Unique Received From Addresses , FLAG </li>\n",
    "<li>FLAG_SENT_ADRR_VS_SENT_TRX : Indicador de corte para las variables : Unique Sent To Addresses , Sent tnx ,FLAG </li>\n",
    "<li>FLAG_ERC20UNIQ_VS_ERC20_TNXS : Indicador de corte para las variables : ERC20 uniq sent addr , Total ERC20 tnxs , FLAG </li>\n",
    "<li>FLAG_TOTAL_TRX_VS_RECEIVED_TNX : Indicador de corte para las variables : total transactions (including tnx to create contract, Received Tnx, FLAG </li>\n",
    "</ul> \n"
   ]
  },
  {
   "cell_type": "code",
   "execution_count": null,
   "id": "faa503f6",
   "metadata": {},
   "outputs": [],
   "source": [
    "df['FLAG_RECEIVED_VS_RECEIVED_ADRESS']  = np.where((df['Received Tnx'] > 4000) &  (df['Unique Received From Addresses'] > 2000) ,1,0) \n",
    "df['FLAG_RECEIVED_VS_RECEIVED_ADRESS'].value_counts()\n",
    "\n"
   ]
  },
  {
   "cell_type": "markdown",
   "id": "563926c5",
   "metadata": {},
   "source": [
    "FLAG_RECEIVED_VS_RECEIVED_ADRESS : \n",
    "    Indicador de corte para las variables : Received Tnx , Unique Received From Addresses , FLAG"
   ]
  },
  {
   "cell_type": "code",
   "execution_count": null,
   "id": "60b5a7b1",
   "metadata": {},
   "outputs": [],
   "source": [
    "df['FLAG_SENT_ADRR_VS_SENT_TRX'] = np.where((df['Unique Sent To Addresses'] > 2000) & (df['Sent tnx'] > 2000),1,0)\n",
    "df['FLAG_SENT_ADRR_VS_SENT_TRX'].value_counts()"
   ]
  },
  {
   "cell_type": "markdown",
   "id": "c01c84ad",
   "metadata": {},
   "source": [
    "FLAG_SENT_ADRR_VS_SENT_TRX : \n",
    " Indicador de corte para las variables : Unique Sent To Addresses , Sent tnx ,FLAG"
   ]
  },
  {
   "cell_type": "code",
   "execution_count": null,
   "id": "316a957c",
   "metadata": {},
   "outputs": [],
   "source": [
    "df['FLAG_ERC20UNIQ_VS_ERC20_TNXS'] = np.where((df[' ERC20 uniq sent addr'] > 1000) & (df[' Total ERC20 tnxs'] > 2000),1,0)\n",
    "df['FLAG_ERC20UNIQ_VS_ERC20_TNXS'].value_counts()"
   ]
  },
  {
   "cell_type": "markdown",
   "id": "f286d2e4",
   "metadata": {},
   "source": [
    "FLAG_ERC20UNIQ_VS_ERC20_TNXS :  Indicador de corte para las variables : ERC20 uniq sent addr , Total ERC20 tnxs , FLAG"
   ]
  },
  {
   "cell_type": "code",
   "execution_count": null,
   "id": "5dce503e",
   "metadata": {},
   "outputs": [],
   "source": [
    "df['FLAG_TOTAL_TRX_VS_RECEIVED_TNX'] = np.where((df['total transactions (including tnx to create contract'] > 3250) & (df['Received Tnx'] > 4000),1,0)\n",
    "df['FLAG_TOTAL_TRX_VS_RECEIVED_TNX'].value_counts()\n"
   ]
  },
  {
   "cell_type": "code",
   "execution_count": null,
   "id": "27537d7a",
   "metadata": {},
   "outputs": [],
   "source": [
    "complete_df = df.copy()"
   ]
  },
  {
   "cell_type": "markdown",
   "id": "75d4c661",
   "metadata": {},
   "source": [
    "FLAG_TOTAL_TRX_VS_RECEIVED_TNX : Indicador de corte para las variables : total transactions (including tnx to create contract, Received Tnx, FLAG"
   ]
  },
  {
   "cell_type": "markdown",
   "id": "2468f130",
   "metadata": {},
   "source": [
    "## Valores extremos\n",
    "\n",
    "Uno de los puntos que encontramos en el dataset y que se evidencia en los análisis Bivariado y multivariado es que tenemos valores extremos en el data set. Revisando las variables no hay una razón en particular por que las variables no podrían tener esos valores. Por lo tanto decidimos hacer los modelos con dos datasets quitando los valores extremos y dejándolos. \n",
    "\n",
    "Para este ejercicio decidimos utilizar el IQR para quitar estos valores extremos. "
   ]
  },
  {
   "cell_type": "code",
   "execution_count": null,
   "id": "95d2cca7",
   "metadata": {},
   "outputs": [],
   "source": [
    "# Miramos cuantos datos y variables tenemos\n",
    "print(df.shape)\n",
    "\n",
    "# Dado que unas variables son categoricas y el IQR se utiliza en variables continuas las vamos a poner en una lista\n",
    "categorical_variables = ['FLAG_RECEIVED_VS_RECEIVED_ADRESS', 'FLAG_SENT_ADRR_VS_SENT_TRX', 'FLAG_ERC20UNIQ_VS_ERC20_TNXS',\n",
    "                         'FLAG_TOTAL_TRX_VS_RECEIVED_TNX',' ERC20 most sent token type',' ERC20_most_rec_token_type' ]\n",
    "\n",
    "# Hacemos una copia del dataset con todos los datos\n",
    "reduced_df = df.copy()\n",
    "print(reduced_df.shape)"
   ]
  },
  {
   "cell_type": "code",
   "execution_count": null,
   "id": "9fe1042b",
   "metadata": {},
   "outputs": [],
   "source": [
    "#https://towardsdatascience.com/practical-implementation-of-outlier-detection-in-python-90680453b3ce\n",
    "\n",
    "median_df = reduced_df.describe().loc[['25%', '75%']].transpose()\n",
    "median_df['IQR'] = median_df['75%'] - median_df['25%']\n",
    "\n",
    "#df_final=work_df\n",
    "for (columnName, columnData) in median_df.T.iteritems():\n",
    "    \n",
    "    print('Column Name : ', columnName)\n",
    "    #print('Column Contents : ', columnData['75%'])\n",
    "    \n",
    "    Q1 = columnData['25%']\n",
    "    Q3 = columnData['75%']\n",
    "    IQR = columnData['IQR']\n",
    "    \n",
    "    if IQR >=1 and columnName not in categorical_variables:\n",
    "        reduced_df=reduced_df[~((reduced_df[columnName]<(Q1-1.5*IQR)) | (reduced_df[columnName]>(Q3+1.5*IQR)))]\n",
    "        print(reduced_df.shape)\n",
    "        #print('Column Contents : ', columnData)\n",
    "        print('\\n')\n",
    "    else:\n",
    "        #print('Column Contents : ', columnData)\n",
    "        print(\"Pass..\")\n",
    "        print('\\n')\n",
    "\n",
    "reduced_df.shape     "
   ]
  },
  {
   "cell_type": "code",
   "execution_count": null,
   "id": "e8972efe",
   "metadata": {},
   "outputs": [],
   "source": [
    "print(f'Procentaje de transacciones no fraudulentas : {len(reduced_df.loc[df[\"FLAG\"]==0])/len(reduced_df[\"FLAG\"])*100}')\n",
    "print(f'Procentaje de transacciones fraudulentas : {len(reduced_df.loc[df[\"FLAG\"]==1])/len(reduced_df[\"FLAG\"])*100}')"
   ]
  },
  {
   "cell_type": "code",
   "execution_count": null,
   "id": "637e1f96",
   "metadata": {},
   "outputs": [],
   "source": [
    "pie, ax = plt.subplots(figsize=[15,10])\n",
    "labels = ['No Fraude', 'Fraude']\n",
    "colors = ['#f9ae35', '#f64e38']\n",
    "plt.pie(x = reduced_df['FLAG'].value_counts(), autopct='%.2f%%', explode=[0.02]*2, labels=labels, pctdistance=0.5, textprops={'fontsize': 14}, colors = colors)\n",
    "plt.title('Distribucion de la columna Target')\n",
    "\n",
    "\n",
    "#TODO no se por que no me lo muestra"
   ]
  },
  {
   "cell_type": "markdown",
   "id": "5e679ac0",
   "metadata": {},
   "source": [
    "Podemos ver que el numeor de records se redujo a 2676, pero adicionalmente a eso vemos que el dataset quedo mas balanceado con un 53% de No fraude vs un 46% de Fraude. Esto nos ayudo adicionalmente a balancear el dataset. \n",
    "\n",
    "#### !!! Importante !!! El dataset reducido (reduced_df) es el que no tiene los valores extremos y el completo (complete_df) es el que sí tiene todos los datos "
   ]
  },
  {
   "cell_type": "markdown",
   "id": "c89bf89e",
   "metadata": {},
   "source": [
    "## Algoritmos No supervisados\n",
    "\n",
    "Un analisis adicional que decidimos hacer es entrenar un modelo no supervidado para usar las respuestas como otra variable en nuestro modelo. "
   ]
  },
  {
   "cell_type": "code",
   "execution_count": null,
   "id": "a1c59e88",
   "metadata": {},
   "outputs": [],
   "source": [
    "#https://realpython.com/k-means-clustering-python/\n",
    "\n",
    "def KMeans_elbow_point(work_df):\n",
    "    \n",
    "    #work_df = complete_df.copy()\n",
    "    work_df = work_df.drop(['FLAG', ' ERC20 most sent token type', ' ERC20_most_rec_token_type'], axis = 1) \n",
    "    work_df.fillna(0, inplace = True)\n",
    "\n",
    "    scaler = StandardScaler()\n",
    "    scaled_features = scaler.fit_transform(work_df)\n",
    "\n",
    "    kmeans_kwargs = {\n",
    "        \"init\": \"k-means++\",\n",
    "        \"n_init\": 10,\n",
    "        \"max_iter\": 300,\n",
    "        \"random_state\": 42,\n",
    "    }\n",
    "\n",
    "    # A list holds the SSE values for each k\n",
    "    sse = []\n",
    "    for k in range(1, 30):\n",
    "        kmeans = KMeans(n_clusters=k, **kmeans_kwargs)\n",
    "        kmeans.fit(scaled_features)\n",
    "        sse.append(kmeans.inertia_)\n",
    "\n",
    "    plt.style.use(\"fivethirtyeight\")\n",
    "    plt.plot(range(1, 30), sse)\n",
    "    plt.xticks(range(1, 30))\n",
    "    plt.xlabel(\"Number of Clusters\")\n",
    "    plt.ylabel(\"SSE\")\n",
    "    plt.show()"
   ]
  },
  {
   "cell_type": "markdown",
   "id": "cc74d128",
   "metadata": {},
   "source": [
    "Construimos una función para crear el gráfico de codo y poder decidir cuantos cluster se deberían usar en cada dataset."
   ]
  },
  {
   "cell_type": "code",
   "execution_count": null,
   "id": "5bfd637b",
   "metadata": {},
   "outputs": [],
   "source": [
    "KMeans_elbow_point(reduced_df)\n",
    "\n",
    "# Se puede decir que se deben usar 8 clusters para el dataset reducido"
   ]
  },
  {
   "cell_type": "code",
   "execution_count": null,
   "id": "e01c8b44",
   "metadata": {},
   "outputs": [],
   "source": [
    "KMeans_elbow_point(complete_df)\n",
    "\n",
    "# Se puede decir que se deben usar 19 clusters para el dataset completo"
   ]
  },
  {
   "cell_type": "code",
   "execution_count": null,
   "id": "ada04b1b",
   "metadata": {},
   "outputs": [],
   "source": [
    "def KMeans_feature(work_df, k_groups):\n",
    "    original_df = work_df.copy()\n",
    "    work_df = work_df.drop(['FLAG', ' ERC20 most sent token type', ' ERC20_most_rec_token_type'], axis = 1) \n",
    "    work_df.fillna(0, inplace = True)\n",
    "\n",
    "    scaler = StandardScaler()\n",
    "    scaled_features = scaler.fit_transform(work_df)\n",
    "\n",
    "    kmeans_kwargs = {\n",
    "        \"init\": \"k-means++\",\n",
    "        \"n_init\": 10,\n",
    "        \"max_iter\": 300,\n",
    "        \"random_state\": 42,\n",
    "    }\n",
    "\n",
    "    kmeans = KMeans(n_clusters=k_groups, **kmeans_kwargs)\n",
    "    kmeans.fit(scaled_features)\n",
    "    y_kmeans = kmeans.predict(scaled_features)\n",
    "\n",
    "    original_df['kMeans_Group'] = np.array(y_kmeans)\n",
    "    \n",
    "    return original_df"
   ]
  },
  {
   "cell_type": "code",
   "execution_count": null,
   "id": "6980313f",
   "metadata": {},
   "outputs": [],
   "source": [
    "print(f\"Complete Shape: {complete_df.shape}\")\n",
    "print(f\"Reduced Shape: {reduced_df.shape}\")"
   ]
  },
  {
   "cell_type": "code",
   "execution_count": null,
   "id": "fa551995",
   "metadata": {},
   "outputs": [],
   "source": [
    "complete_df = KMeans_feature(complete_df, 19)\n",
    "complete_df.shape"
   ]
  },
  {
   "cell_type": "code",
   "execution_count": null,
   "id": "4bedb421",
   "metadata": {},
   "outputs": [],
   "source": [
    "reduced_df = KMeans_feature(reduced_df, 8)\n",
    "reduced_df.shape"
   ]
  },
  {
   "cell_type": "markdown",
   "id": "e6190519",
   "metadata": {},
   "source": [
    "Se ve como a los dos datasets se les agregó una nueva variable llamada 'kMeans_Group' que es el resultado del algoritmo no supervisado"
   ]
  },
  {
   "cell_type": "markdown",
   "id": "8d2f3eb6",
   "metadata": {},
   "source": [
    "\n",
    "\n",
    "\n",
    "# Aplicamos  algoritmos de clasificación al Dataset completo"
   ]
  },
  {
   "cell_type": "markdown",
   "id": "b738fe60",
   "metadata": {},
   "source": [
    "## Arbol de Decisiones"
   ]
  },
  {
   "cell_type": "code",
   "execution_count": null,
   "id": "e4ff6a82",
   "metadata": {},
   "outputs": [],
   "source": [
    "df.columns"
   ]
  },
  {
   "cell_type": "code",
   "execution_count": null,
   "id": "1e5b56ae",
   "metadata": {},
   "outputs": [],
   "source": [
    "complete_df.fillna(0, inplace = True)"
   ]
  },
  {
   "cell_type": "code",
   "execution_count": null,
   "id": "e61a4c32",
   "metadata": {},
   "outputs": [],
   "source": [
    "X = complete_df.drop(['FLAG', ' ERC20 most sent token type', ' ERC20_most_rec_token_type', ], axis = 1) \n",
    "#Todo el Dataset excepto FLAG que es la variable objetivo y variables no numericas o categoricas que descartamos por no aportar insight\n",
    "y = complete_df['FLAG'] "
   ]
  },
  {
   "cell_type": "code",
   "execution_count": null,
   "id": "3ffa75f4",
   "metadata": {},
   "outputs": [],
   "source": [
    "X.fillna(0, inplace = True) #Termino de limpiar"
   ]
  },
  {
   "cell_type": "code",
   "execution_count": null,
   "id": "51f12150",
   "metadata": {},
   "outputs": [],
   "source": [
    "X"
   ]
  },
  {
   "cell_type": "code",
   "execution_count": null,
   "id": "36606155",
   "metadata": {},
   "outputs": [],
   "source": [
    "#Separo data en sets de training y test 70/30\n",
    "X_train_DT, X_test_DT, y_train_DT, y_test_DT = train_test_split(X, y, test_size = 0.30, random_state = 43) #---> ver si es correcto el random_state"
   ]
  },
  {
   "cell_type": "code",
   "execution_count": null,
   "id": "c41bfcf6",
   "metadata": {},
   "outputs": [],
   "source": [
    "tree = DecisionTreeClassifier(max_depth = 2, random_state = 42)"
   ]
  },
  {
   "cell_type": "code",
   "execution_count": null,
   "id": "d8b9c30d",
   "metadata": {
    "scrolled": true
   },
   "outputs": [],
   "source": [
    "tree.fit(X_train_DT, y_train_DT)"
   ]
  },
  {
   "cell_type": "code",
   "execution_count": null,
   "id": "25f51394",
   "metadata": {},
   "outputs": [],
   "source": [
    "y_train_predict_DT = tree.predict(X_train_DT)\n",
    "y_test_pred_DT = tree.predict(X_test_DT)"
   ]
  },
  {
   "cell_type": "code",
   "execution_count": null,
   "id": "390d35de",
   "metadata": {},
   "outputs": [],
   "source": [
    "train_acurracy = accuracy_score(y_train_DT, y_train_predict_DT)\n",
    "test_acurracy = accuracy_score(y_test_DT, y_test_pred_DT)"
   ]
  },
  {
   "cell_type": "code",
   "execution_count": null,
   "id": "01ed4820",
   "metadata": {},
   "outputs": [],
   "source": [
    "train_acurracy "
   ]
  },
  {
   "cell_type": "code",
   "execution_count": null,
   "id": "dd6fe3d2",
   "metadata": {},
   "outputs": [],
   "source": [
    "test_acurracy"
   ]
  },
  {
   "cell_type": "code",
   "execution_count": null,
   "id": "1369f5d9",
   "metadata": {},
   "outputs": [],
   "source": []
  },
  {
   "cell_type": "code",
   "execution_count": null,
   "id": "e810f6f1",
   "metadata": {},
   "outputs": [],
   "source": []
  },
  {
   "cell_type": "markdown",
   "id": "51401019",
   "metadata": {},
   "source": [
    "## Random Forest"
   ]
  },
  {
   "cell_type": "code",
   "execution_count": null,
   "id": "b66fb7d6",
   "metadata": {},
   "outputs": [],
   "source": [
    "X2 = complete_df.drop(['FLAG', ' ERC20 most sent token type', ' ERC20_most_rec_token_type'], axis = 1) \n",
    "#Todo el Dataset excepto FLAG que es la variable objetivo y variables no numericas o categoricas que descartamos por no aportar insight\n",
    "y2 = complete_df['FLAG'] "
   ]
  },
  {
   "cell_type": "code",
   "execution_count": null,
   "id": "cdc84267",
   "metadata": {},
   "outputs": [],
   "source": [
    "X2.fillna(0, inplace = True) #Termino de limpiar"
   ]
  },
  {
   "cell_type": "code",
   "execution_count": null,
   "id": "471677e3",
   "metadata": {},
   "outputs": [],
   "source": [
    "#Separo data en sets de training y test 70/30\n",
    "X_train_RF, X_test_RF, y_train_RF, y_test_RF = train_test_split(X2, y2, test_size = 0.30, random_state = 43)"
   ]
  },
  {
   "cell_type": "code",
   "execution_count": null,
   "id": "3b51e3b4",
   "metadata": {},
   "outputs": [],
   "source": [
    "#Creamos un random forest!\n",
    "model2 = RandomForestClassifier(random_state=11, n_estimators=200, class_weight=\"balanced\", max_features=\"log2\")"
   ]
  },
  {
   "cell_type": "code",
   "execution_count": null,
   "id": "178b7b04",
   "metadata": {},
   "outputs": [],
   "source": [
    "model2.fit(X_train_RF, y_train_RF)"
   ]
  },
  {
   "cell_type": "code",
   "execution_count": null,
   "id": "dabf49e5",
   "metadata": {},
   "outputs": [],
   "source": [
    "y_test_pred_RF = model2.predict(X_test_RF)"
   ]
  },
  {
   "cell_type": "code",
   "execution_count": null,
   "id": "bf1affb9",
   "metadata": {
    "scrolled": true
   },
   "outputs": [],
   "source": [
    "#Calculo el accuracy en Test\n",
    "test_accuracy2 = accuracy_score(y_test_RF, y_test_pred_RF)\n",
    "\n",
    "print('% de aciertos sobre el set de evaluación:',test_accuracy2)"
   ]
  },
  {
   "cell_type": "markdown",
   "id": "b48ca75c",
   "metadata": {},
   "source": [
    "# KNN\n"
   ]
  },
  {
   "cell_type": "code",
   "execution_count": null,
   "id": "c3155407",
   "metadata": {},
   "outputs": [],
   "source": [
    "X3 = complete_df.drop(['FLAG', ' ERC20 most sent token type', ' ERC20_most_rec_token_type'], axis = 1) \n",
    "#Todo el Dataset excepto FLAG que es la variable objetivo y variables no numericas o categoricas que descartamos por no aportar insight\n",
    "y3 = complete_df['FLAG']"
   ]
  },
  {
   "cell_type": "code",
   "execution_count": null,
   "id": "9609a2c4",
   "metadata": {},
   "outputs": [],
   "source": [
    "#Separo data en sets de training y test 70/30\n",
    "X_train_KNN, X_test_KNN, y_train_KNN, y_test_KNN = train_test_split(X3, y3, test_size = 0.30, random_state = 43)\n"
   ]
  },
  {
   "cell_type": "code",
   "execution_count": null,
   "id": "1f8c94f4",
   "metadata": {},
   "outputs": [],
   "source": [
    "knn = KNeighborsClassifier(n_neighbors=3)\n",
    "knn.fit(X_train_KNN, y_train_KNN)"
   ]
  },
  {
   "cell_type": "code",
   "execution_count": null,
   "id": "2a4be68b",
   "metadata": {},
   "outputs": [],
   "source": [
    "y_test_pred_KNN = knn.predict(X_test_KNN)"
   ]
  },
  {
   "cell_type": "code",
   "execution_count": null,
   "id": "6ed0b562",
   "metadata": {},
   "outputs": [],
   "source": [
    "#Calculo el accuracy en Test\n",
    "test_accuracy2 = accuracy_score(y_test_KNN, y_test_pred_KNN)\n",
    "\n",
    "print('% de aciertos sobre el set de evaluación:',test_accuracy2)"
   ]
  },
  {
   "cell_type": "markdown",
   "id": "f9bbd781",
   "metadata": {},
   "source": [
    "# XGBoost"
   ]
  },
  {
   "cell_type": "code",
   "execution_count": null,
   "id": "4a060ae3",
   "metadata": {},
   "outputs": [],
   "source": [
    "X4 = complete_df.drop(['FLAG', ' ERC20 most sent token type', ' ERC20_most_rec_token_type'], axis = 1) \n",
    "#Todo el Dataset excepto FLAG que es la variable objetivo y variables no numericas o categoricas que descartamos por no aportar insight\n",
    "y4 = complete_df['FLAG'] "
   ]
  },
  {
   "cell_type": "code",
   "execution_count": null,
   "id": "a26703f3",
   "metadata": {},
   "outputs": [],
   "source": [
    "X4.fillna(0, inplace = True) #Termino de limpiar"
   ]
  },
  {
   "cell_type": "code",
   "execution_count": null,
   "id": "42fc79a0",
   "metadata": {},
   "outputs": [],
   "source": [
    "#Separo data en sets de training y test 70/30\n",
    "X_train_XG, X_test_XG, y_train_XG, y_test_XG = train_test_split(X4, y4, test_size = 0.30, random_state = 43)"
   ]
  },
  {
   "cell_type": "code",
   "execution_count": null,
   "id": "847bd695",
   "metadata": {},
   "outputs": [],
   "source": [
    "clf_xgb = xgb.XGBClassifier(objective='binary:logistic', n_estimators=10,\n",
    "                            seed=123)\n"
   ]
  },
  {
   "cell_type": "code",
   "execution_count": null,
   "id": "afe5b6d9",
   "metadata": {},
   "outputs": [],
   "source": [
    "clf_xgb.fit(X_train_XG, y_train_XG)\n"
   ]
  },
  {
   "cell_type": "code",
   "execution_count": null,
   "id": "a4421d8d",
   "metadata": {},
   "outputs": [],
   "source": [
    "preds_xgb = clf_xgb.predict(X_test_XG)"
   ]
  },
  {
   "cell_type": "code",
   "execution_count": null,
   "id": "91142c56",
   "metadata": {},
   "outputs": [],
   "source": [
    "accuracy_xgb = float(np.sum(preds_xgb == y_test_XG))/y_test_XG.shape[0]\n",
    "print('Accuracy de XGBoost: ', accuracy_xgb)"
   ]
  },
  {
   "cell_type": "markdown",
   "id": "9c8cee30",
   "metadata": {},
   "source": [
    "# Aplicamos algoritmos de clasificación al Dataset reducido"
   ]
  },
  {
   "cell_type": "markdown",
   "id": "41991763",
   "metadata": {},
   "source": [
    "# Arbol de Decisiones (Dataset Reducido)"
   ]
  },
  {
   "cell_type": "code",
   "execution_count": null,
   "id": "e449ecf9",
   "metadata": {},
   "outputs": [],
   "source": [
    "reduced_df.fillna(0, inplace = True)"
   ]
  },
  {
   "cell_type": "code",
   "execution_count": null,
   "id": "6c08ba06",
   "metadata": {},
   "outputs": [],
   "source": [
    "X_reduce = reduced_df.drop(['FLAG', ' ERC20 most sent token type', ' ERC20_most_rec_token_type', ], axis = 1) \n",
    "#Todo el Dataset excepto FLAG que es la variable objetivo y variables no numericas o categoricas que descartamos por no aportar insight\n",
    "y_reduce = reduced_df['FLAG'] "
   ]
  },
  {
   "cell_type": "code",
   "execution_count": null,
   "id": "af3e2e70",
   "metadata": {},
   "outputs": [],
   "source": [
    "X_reduce.fillna(0, inplace = True) #Termino de limpiar"
   ]
  },
  {
   "cell_type": "code",
   "execution_count": null,
   "id": "ca3e7101",
   "metadata": {},
   "outputs": [],
   "source": [
    "X_reduce"
   ]
  },
  {
   "cell_type": "code",
   "execution_count": null,
   "id": "5e401b6f",
   "metadata": {},
   "outputs": [],
   "source": [
    "#Separo data en sets de training y test 70/30\n",
    "X_train_DT_reduce, X_test_DT_reduce, y_train_DT_reduce, y_test_DT_reduce = train_test_split(X_reduce, y_reduce, test_size = 0.30, random_state = 43) #---> ver si es correcto el random_state"
   ]
  },
  {
   "cell_type": "code",
   "execution_count": null,
   "id": "639ec5d6",
   "metadata": {},
   "outputs": [],
   "source": [
    "tree_reduce = DecisionTreeClassifier(max_depth = 2, random_state = 42)"
   ]
  },
  {
   "cell_type": "code",
   "execution_count": null,
   "id": "252fa89b",
   "metadata": {},
   "outputs": [],
   "source": [
    "tree_reduce.fit(X_train_DT_reduce, y_train_DT_reduce)"
   ]
  },
  {
   "cell_type": "code",
   "execution_count": null,
   "id": "d6a0eba2",
   "metadata": {},
   "outputs": [],
   "source": [
    "y_train_predict_DT_reduce = tree_reduce.predict(X_train_DT_reduce)\n",
    "y_test_pred_DT_reduce = tree_reduce.predict(X_test_DT_reduce)"
   ]
  },
  {
   "cell_type": "code",
   "execution_count": null,
   "id": "6707accf",
   "metadata": {},
   "outputs": [],
   "source": [
    "train_acurracy_reduce = accuracy_score(y_train_DT_reduce, y_train_predict_DT_reduce)\n",
    "test_acurracy_reduce = accuracy_score(y_test_DT_reduce, y_test_pred_DT_reduce)"
   ]
  },
  {
   "cell_type": "code",
   "execution_count": null,
   "id": "f40cab0e",
   "metadata": {},
   "outputs": [],
   "source": [
    "train_acurracy_reduce "
   ]
  },
  {
   "cell_type": "code",
   "execution_count": null,
   "id": "58d63017",
   "metadata": {},
   "outputs": [],
   "source": [
    "test_acurracy_reduce"
   ]
  },
  {
   "cell_type": "markdown",
   "id": "ce118c21",
   "metadata": {},
   "source": [
    "# Random Forest - Dataset reducido\n"
   ]
  },
  {
   "cell_type": "code",
   "execution_count": null,
   "id": "3e448887",
   "metadata": {},
   "outputs": [],
   "source": [
    "X2_reduce = reduced_df.drop(['FLAG', ' ERC20 most sent token type', ' ERC20_most_rec_token_type'], axis = 1) \n",
    "#Todo el Dataset excepto FLAG que es la variable objetivo y variables no numericas o categoricas que descartamos por no aportar insight\n",
    "y2_reduce = reduced_df['FLAG'] "
   ]
  },
  {
   "cell_type": "code",
   "execution_count": null,
   "id": "9ab8290c",
   "metadata": {},
   "outputs": [],
   "source": [
    "X2_reduce.fillna(0, inplace = True) #Termino de limpiar"
   ]
  },
  {
   "cell_type": "code",
   "execution_count": null,
   "id": "4b4a945e",
   "metadata": {},
   "outputs": [],
   "source": [
    "\n",
    "#Separo data en sets de training y test 70/30\n",
    "X_train_RF_reduce, X_test_RF_reduce, y_train_RF_reduce, y_test_RF_reduce = train_test_split(X2_reduce, y2_reduce, test_size = 0.30, random_state = 43)"
   ]
  },
  {
   "cell_type": "code",
   "execution_count": null,
   "id": "3f1d9b8c",
   "metadata": {},
   "outputs": [],
   "source": [
    "\n",
    "#Creamos un random forest!\n",
    "Modelo_RF_reduce = RandomForestClassifier(random_state=11, n_estimators=200, class_weight=\"balanced\", max_features=\"log2\")"
   ]
  },
  {
   "cell_type": "code",
   "execution_count": null,
   "id": "9c2a7363",
   "metadata": {},
   "outputs": [],
   "source": [
    "Modelo_RF_reduce.fit(X_train_RF_reduce, y_train_RF_reduce)"
   ]
  },
  {
   "cell_type": "code",
   "execution_count": null,
   "id": "896cfaad",
   "metadata": {},
   "outputs": [],
   "source": [
    "y_test_pred_RF_reduce = Modelo_RF_reduce.predict(X_test_RF_reduce)"
   ]
  },
  {
   "cell_type": "code",
   "execution_count": null,
   "id": "ba0f81ce",
   "metadata": {},
   "outputs": [],
   "source": [
    "#Calculo el accuracy en Test\n",
    "test_accuracy2_reduce = accuracy_score(y_test_RF_reduce, y_test_pred_RF_reduce)\n",
    "\n",
    "print('% de aciertos sobre el set de evaluación:',test_accuracy2_reduce)"
   ]
  },
  {
   "cell_type": "markdown",
   "id": "5d59dee6",
   "metadata": {},
   "source": [
    "# KNN - Dataset reducido\n"
   ]
  },
  {
   "cell_type": "code",
   "execution_count": null,
   "id": "911cdfa9",
   "metadata": {},
   "outputs": [],
   "source": [
    "X3_reduce = reduced_df.drop(['FLAG', ' ERC20 most sent token type', ' ERC20_most_rec_token_type'], axis = 1) \n",
    "#Todo el Dataset excepto FLAG que es la variable objetivo y variables no numericas o categoricas que descartamos por no aportar insight\n",
    "y3_reduce = reduced_df['FLAG']"
   ]
  },
  {
   "cell_type": "code",
   "execution_count": null,
   "id": "1a731fe7",
   "metadata": {},
   "outputs": [],
   "source": [
    "#Separo data en sets de training y test 70/30\n",
    "X_train_KNN_reduce, X_test_KNN_reduce, y_train_KNN_reduce, y_test_KNN_reduce = train_test_split(X3_reduce, y3_reduce, test_size = 0.30, random_state = 43)\n"
   ]
  },
  {
   "cell_type": "code",
   "execution_count": null,
   "id": "f1ae7618",
   "metadata": {},
   "outputs": [],
   "source": [
    "knn_reduce = KNeighborsClassifier(n_neighbors=3)\n",
    "knn_reduce.fit(X_train_KNN_reduce, y_train_KNN_reduce)"
   ]
  },
  {
   "cell_type": "code",
   "execution_count": null,
   "id": "f971798f",
   "metadata": {},
   "outputs": [],
   "source": [
    "y_test_pred_KNN_reduce = knn_reduce.predict(X_test_KNN_reduce)"
   ]
  },
  {
   "cell_type": "code",
   "execution_count": null,
   "id": "367b3b60",
   "metadata": {},
   "outputs": [],
   "source": [
    "#Calculo el accuracy en Test\n",
    "test_accuracy2_reduce = accuracy_score(y_test_KNN_reduce, y_test_pred_KNN_reduce)\n",
    "\n",
    "print('% de aciertos sobre el set de evaluación:',test_accuracy2_reduce)"
   ]
  },
  {
   "cell_type": "markdown",
   "id": "9ae7f37c",
   "metadata": {},
   "source": [
    "# XGBoost  - Dataset reducido"
   ]
  },
  {
   "cell_type": "code",
   "execution_count": null,
   "id": "713cb2ec",
   "metadata": {},
   "outputs": [],
   "source": [
    "X4_reduce = reduced_df.drop(['FLAG', ' ERC20 most sent token type', ' ERC20_most_rec_token_type'], axis = 1) \n",
    "#Todo el Dataset excepto FLAG que es la variable objetivo y variables no numericas o categoricas que descartamos por no aportar insight\n",
    "y4_reduce = reduced_df['FLAG'] \n",
    "\n"
   ]
  },
  {
   "cell_type": "code",
   "execution_count": null,
   "id": "6da2cc1b",
   "metadata": {},
   "outputs": [],
   "source": [
    "X4_reduce.fillna(0, inplace = True) #Termino de limpiar\n",
    "\n"
   ]
  },
  {
   "cell_type": "code",
   "execution_count": null,
   "id": "7ce17c51",
   "metadata": {},
   "outputs": [],
   "source": [
    "#Separo data en sets de training y test 70/30\n",
    "X_train_XG_reduce, X_test_XG_reduce, y_train_XG_reduce, y_test_XG_reduce = train_test_split(X4_reduce, y4_reduce, test_size = 0.30, random_state = 43)\n"
   ]
  },
  {
   "cell_type": "code",
   "execution_count": null,
   "id": "975283ae",
   "metadata": {},
   "outputs": [],
   "source": [
    "clf_xgb_reduce = xgb.XGBClassifier(objective='binary:logistic', n_estimators=10,\n",
    "                            seed=123)\n"
   ]
  },
  {
   "cell_type": "code",
   "execution_count": null,
   "id": "9cb6a39c",
   "metadata": {},
   "outputs": [],
   "source": [
    "clf_xgb_reduce.fit(X_train_XG_reduce, y_train_XG_reduce)"
   ]
  },
  {
   "cell_type": "code",
   "execution_count": null,
   "id": "77bdaf94",
   "metadata": {},
   "outputs": [],
   "source": [
    "preds_xgb_reduce = clf_xgb_reduce.predict(X_test_XG_reduce)"
   ]
  },
  {
   "cell_type": "code",
   "execution_count": null,
   "id": "34daab40",
   "metadata": {},
   "outputs": [],
   "source": [
    "accuracy_xgb_reduce = float(np.sum(preds_xgb_reduce == y_test_XG_reduce))/y_test_XG_reduce.shape[0]\n",
    "print('Accuracy de XGBoost: ', accuracy_xgb_reduce)"
   ]
  },
  {
   "cell_type": "markdown",
   "id": "03134da9",
   "metadata": {},
   "source": [
    "# Validacion de modelos y seleccion"
   ]
  },
  {
   "cell_type": "code",
   "execution_count": null,
   "id": "cb1d5d53",
   "metadata": {},
   "outputs": [],
   "source": [
    "#Accuracy de los modelos \n",
    "\n",
    "print(\"Modelos con el data set completo\")\n",
    "print(\"\")\n",
    "print(f\"Accuracy of the RF classifier is: {accuracy_score(y_test_RF, y_test_pred_RF )}\")\n",
    "print(f\"Accuracy of the DT classifier is: {accuracy_score(y_test_DT, y_test_pred_DT )}\")\n",
    "print(f\"Accuracy of the KNN classifier is: {accuracy_score(y_test_KNN, y_test_pred_KNN )}\")\n",
    "print(f\"Accuracy of the XGBoost classifier is: {accuracy_score(y_test_XG, preds_xgb )}\")\n",
    "print(\"\")\n",
    "print(\"Modelos con el data set reducido\")\n",
    "print(\"\")\n",
    "print(f\"Accuracy of the RF classifier is: {accuracy_score(y_test_RF_reduce, y_test_pred_RF_reduce )}\")\n",
    "print(f\"Accuracy of the DT classifier is: {accuracy_score(y_test_DT_reduce, y_test_pred_DT_reduce )}\")\n",
    "print(f\"Accuracy of the KNN classifier is: {accuracy_score(y_test_KNN_reduce, y_test_pred_KNN_reduce )}\")\n",
    "print(f\"Accuracy of the XGBoost classifier is: {accuracy_score(y_test_XG_reduce, preds_xgb_reduce )}\")\n"
   ]
  },
  {
   "cell_type": "code",
   "execution_count": null,
   "id": "9b462273",
   "metadata": {},
   "outputs": [],
   "source": [
    "#precision_score de los modelos\n",
    "print(\"Modelos con el data set completo\")\n",
    "print(\"\")\n",
    "print(f\"precision_score of the RF classifier is: {precision_score(y_test_RF, y_test_pred_RF )}\")\n",
    "print(f\"precision_score of the DF classifier is: {precision_score(y_test_DT, y_test_pred_DT )}\")\n",
    "print(f\"precision_score of the KNN classifier is: {precision_score(y_test_KNN, y_test_pred_KNN )}\")\n",
    "print(f\"precision_score of the XGBoost classifier is: {precision_score(y_test_XG, preds_xgb )}\")\n",
    "print(\"\")\n",
    "print(\"Modelos con el data set reducido\")\n",
    "print(\"\")\n",
    "print(f\"precision_score of the RF classifier is: {precision_score(y_test_RF_reduce, y_test_pred_RF_reduce )}\")\n",
    "print(f\"precision_score of the DF classifier is: {precision_score(y_test_DT_reduce, y_test_pred_DT_reduce )}\")\n",
    "print(f\"precision_score of the KNN classifier is: {precision_score(y_test_KNN_reduce, y_test_pred_KNN_reduce )}\")\n",
    "print(f\"precision_score of the XGBoost classifier is: {precision_score(y_test_XG_reduce, preds_xgb_reduce )}\")\n"
   ]
  },
  {
   "cell_type": "code",
   "execution_count": null,
   "id": "fba387f2",
   "metadata": {},
   "outputs": [],
   "source": [
    "#recall_score de los modelos\n",
    "print(\"Modelos con el data set completo\")\n",
    "print(\"\")\n",
    "print(f\"recall_score of the RF classifier is: {recall_score(y_test_RF, y_test_pred_RF )}\")\n",
    "print(f\"recall_score of the DT classifier is: {recall_score(y_test_DT, y_test_pred_DT )}\")\n",
    "print(f\"recall_score of the KNN classifier is: {recall_score(y_test_KNN, y_test_pred_KNN)}\")\n",
    "print(f\"recall_score of the XGBoost classifier is: {recall_score(y_test_XG, preds_xgb)}\")\n",
    "print(\"\")\n",
    "print(\"Modelos con el data set reducido\")\n",
    "print(\"\")\n",
    "print(f\"recall_score of the RF classifier is: {recall_score(y_test_RF_reduce, y_test_pred_RF_reduce )}\")\n",
    "print(f\"recall_score of the DT classifier is: {recall_score(y_test_DT_reduce, y_test_pred_DT_reduce )}\")\n",
    "print(f\"recall_score of the KNN classifier is: {recall_score(y_test_KNN_reduce, y_test_pred_KNN_reduce )}\")\n",
    "print(f\"recall_score of the XGBoost classifier is: {recall_score(y_test_XG_reduce, preds_xgb_reduce)}\")"
   ]
  },
  {
   "cell_type": "code",
   "execution_count": null,
   "id": "bf713d77",
   "metadata": {},
   "outputs": [],
   "source": [
    "#f1_score de los modelos\n",
    "\n",
    "print(\"Modelos con el data set completo\")\n",
    "print(\"\")\n",
    "print(f\"f1_score of the RF classifier is: {f1_score(y_test_RF, y_test_pred_RF )}\")\n",
    "print(f\"f1_score of the DT classifier is: {f1_score(y_test_DT, y_test_pred_DT )}\")\n",
    "print(f\"f1_score of the KNN classifier is: {f1_score(y_test_KNN, y_test_pred_KNN )}\")\n",
    "print(f\"f1_score of the XGBoost classifier is: {f1_score(y_test_XG, preds_xgb )}\")\n",
    "print(\"\")\n",
    "print(\"Modelos con el data set reducido\")\n",
    "print(\"\")\n",
    "print(f\"f1_score of the RF classifier is: {f1_score(y_test_RF_reduce, y_test_pred_RF_reduce )}\")\n",
    "print(f\"f1_score of the DT classifier is: {f1_score(y_test_DT_reduce, y_test_pred_DT_reduce )}\")\n",
    "print(f\"f1_score of the KNN classifier is: {f1_score(y_test_KNN_reduce, y_test_pred_KNN_reduce )}\")\n",
    "print(f\"f1_score of the XGBoost classifier is: {f1_score(y_test_XG_reduce, preds_xgb_reduce )}\")\n"
   ]
  },
  {
   "cell_type": "code",
   "execution_count": null,
   "id": "44eb9eb9",
   "metadata": {},
   "outputs": [],
   "source": [
    "from sklearn.metrics import classification_report"
   ]
  },
  {
   "cell_type": "code",
   "execution_count": null,
   "id": "a54366a1",
   "metadata": {},
   "outputs": [],
   "source": [
    "import matplotlib.pyplot as plt\n",
    "from sklearn.metrics import confusion_matrix\n",
    "from sklearn.metrics import plot_confusion_matrix\n",
    "\n",
    "#Matriz de Confusión\n",
    "print(\"Matriz de confuncion para el algoritmo seleccionado con el data set completo\")\n",
    "print(confusion_matrix(y_test_RF, y_test_pred_RF))\n",
    "\n",
    "#Ploteamos la Matriz\n",
    "plot_confusion_matrix(model2, X_test_RF, y_test_RF)\n",
    "plt.show()"
   ]
  },
  {
   "cell_type": "code",
   "execution_count": null,
   "id": "ca231edf",
   "metadata": {},
   "outputs": [],
   "source": [
    "#Matriz de Confusión\n",
    "print(\"Matriz de confuncion para el algoritmo seleccionado con el data set reducido\")\n",
    "print(confusion_matrix(y_test_RF_reduce, y_test_pred_RF_reduce))\n",
    "\n",
    "#Ploteamos la Matriz\n",
    "plot_confusion_matrix(Modelo_RF_reduce, X_test_RF_reduce, y_test_RF_reduce)\n",
    "plt.show()"
   ]
  },
  {
   "cell_type": "code",
   "execution_count": null,
   "id": "1e796a92",
   "metadata": {},
   "outputs": [],
   "source": [
    "#Curva ROC\n",
    "from sklearn.metrics import roc_curve, auc\n",
    "\n",
    "class_probabilities = tree.predict_proba(X_test_RF)\n",
    "preds = class_probabilities[:, 1]\n",
    "\n",
    "fpr, tpr, threshold = roc_curve(y_test_RF, y_test_pred_RF)\n",
    "roc_auc = auc(fpr, tpr)\n",
    "\n",
    "# AUC\n",
    "print(f\"AUC for our classifier is: {roc_auc}\")\n",
    "\n",
    "# Gráfica de la Curva ROC\n",
    "print(\"ROC para el modelo seleccionado con el dataset completo\")\n",
    "plt.title('Receiver Operating Characteristic')\n",
    "plt.plot(fpr, tpr, 'b', label = 'AUC = %0.2f' % roc_auc)\n",
    "plt.legend(loc = 'lower right')\n",
    "plt.plot([0, 1], [0, 1],'r--')\n",
    "plt.xlim([0, 1])\n",
    "plt.ylim([0, 1])\n",
    "plt.ylabel('True Positive Rate')\n",
    "plt.xlabel('False Positive Rate')\n",
    "plt.show()"
   ]
  },
  {
   "cell_type": "code",
   "execution_count": null,
   "id": "18dfb8d0",
   "metadata": {},
   "outputs": [],
   "source": [
    "#Curva ROC\n",
    "from sklearn.metrics import roc_curve, auc\n",
    "\n",
    "class_probabilities = tree.predict_proba(X_test_RF_reduce)\n",
    "preds = class_probabilities[:, 1]\n",
    "\n",
    "fpr, tpr, threshold = roc_curve(y_test_RF_reduce, y_test_pred_RF_reduce)\n",
    "roc_auc = auc(fpr, tpr)\n",
    "\n",
    "# AUC\n",
    "print(f\"AUC for our classifier is: {roc_auc}\")\n",
    "\n",
    "# Gráfica de la Curva ROC\n",
    "print(\"ROC para el modelo seleccionado con el dataset reducido\")\n",
    "plt.title('Receiver Operating Characteristic')\n",
    "plt.plot(fpr, tpr, 'b', label = 'AUC = %0.2f' % roc_auc)\n",
    "plt.legend(loc = 'lower right')\n",
    "plt.plot([0, 1], [0, 1],'r--')\n",
    "plt.xlim([0, 1])\n",
    "plt.ylim([0, 1])\n",
    "plt.ylabel('True Positive Rate')\n",
    "plt.xlabel('False Positive Rate')\n",
    "plt.show()"
   ]
  },
  {
   "cell_type": "markdown",
   "id": "a7d33ea7",
   "metadata": {},
   "source": []
  }
 ],
 "metadata": {
  "kernelspec": {
   "display_name": "Python 3 (ipykernel)",
   "language": "python",
   "name": "python3"
  },
  "language_info": {
   "codemirror_mode": {
    "name": "ipython",
    "version": 3
   },
   "file_extension": ".py",
   "mimetype": "text/x-python",
   "name": "python",
   "nbconvert_exporter": "python",
   "pygments_lexer": "ipython3",
   "version": "3.9.7"
  }
 },
 "nbformat": 4,
 "nbformat_minor": 5
}
